{
 "cells": [
  {
   "cell_type": "markdown",
   "metadata": {
    "ExecuteTime": {
     "end_time": "2018-11-12T08:06:47.568096Z",
     "start_time": "2018-11-12T08:06:47.565871Z"
    }
   },
   "source": [
    "# 1 - Information"
   ]
  },
  {
   "cell_type": "code",
   "execution_count": 1,
   "metadata": {
    "ExecuteTime": {
     "end_time": "2018-11-26T11:05:51.573638Z",
     "start_time": "2018-11-26T11:05:51.570477Z"
    }
   },
   "outputs": [],
   "source": [
    "author = \"Pierre OREISTEIN\"\n",
    "date = \"25/11/2018\""
   ]
  },
  {
   "cell_type": "markdown",
   "metadata": {},
   "source": [
    "# 2 - Stochastic Multi-Armed Bandits on Simulated Data"
   ]
  },
  {
   "cell_type": "markdown",
   "metadata": {
    "ExecuteTime": {
     "end_time": "2018-11-12T08:07:45.229248Z",
     "start_time": "2018-11-12T08:07:45.226651Z"
    }
   },
   "source": [
    "## 2.1 - Packages"
   ]
  },
  {
   "cell_type": "code",
   "execution_count": 2,
   "metadata": {
    "ExecuteTime": {
     "end_time": "2018-11-26T11:05:52.866736Z",
     "start_time": "2018-11-26T11:05:51.866389Z"
    }
   },
   "outputs": [],
   "source": [
    "# Mathematical packages\n",
    "import numpy as np\n",
    "\n",
    "# Graphic packages\n",
    "import matplotlib.pyplot as plt\n",
    "%matplotlib inline\n",
    "import seaborn as sns\n",
    "sns.set()\n",
    "\n",
    "# Progress bar\n",
    "import tqdm as tqdm\n",
    "\n",
    "# Personnal packages\n",
    "import arms as arms"
   ]
  },
  {
   "cell_type": "markdown",
   "metadata": {},
   "source": [
    "## 2.2 - UCB1"
   ]
  },
  {
   "cell_type": "code",
   "execution_count": 3,
   "metadata": {
    "ExecuteTime": {
     "end_time": "2018-11-26T11:05:52.923545Z",
     "start_time": "2018-11-26T11:05:52.879810Z"
    }
   },
   "outputs": [],
   "source": [
    "def UCB1(T, MAB, n=1, rho=0.2):\n",
    "    \"\"\"Simulate a bandit game of length T on the MAB given as argument with the UCB1\n",
    "       strategy.\"\"\"\n",
    "    \n",
    "    # Sequence of T rewards and of the T arms drawn\n",
    "    rew = []\n",
    "    draws = []\n",
    "        \n",
    "    # Number of arms\n",
    "    K = len(MAB)\n",
    "    \n",
    "    # Initialisation of the approxiamted means, counter and sum of each arms\n",
    "    sums = np.zeros(K)\n",
    "    N_a = np.zeros(K)\n",
    "    means = np.zeros(K)\n",
    "    \n",
    "    # Initialisation of the time\n",
    "    t = 0\n",
    "    \n",
    "    # First: Draw each arm\n",
    "    while t < (T - 1) and t < K:\n",
    "        \n",
    "        # Arm to draw\n",
    "        k = t\n",
    "                \n",
    "        # Draw a sample of arm k\n",
    "        sample_k = MAB[k].sample()\n",
    "        \n",
    "        # Update the sum, the mean and the counter of arm k\n",
    "        sums[k] += sample_k\n",
    "        N_a[k] += 1\n",
    "        means[k] += sample_k\n",
    "        \n",
    "        # Update the time\n",
    "        t += 1\n",
    "        \n",
    "        # Update rew and draws\n",
    "        rew.append(sample_k)\n",
    "        draws.append(k)\n",
    "        \n",
    "    # Second: Chooses the best arm in the best possible world\n",
    "    while t < (T - 1):\n",
    "        \n",
    "        # Compute the upper bounds\n",
    "        A = means + rho * np.sqrt(np.log(t) / (2 * N_a))\n",
    "        \n",
    "        # Compute the argmax\n",
    "        k_max = np.argmax(A)\n",
    "\n",
    "        # Draw a sample of arm k\n",
    "        sample_k_max = MAB[k_max].sample()\n",
    "        \n",
    "        # Update the sum, the mean and the counter of arm k\n",
    "        sums[k_max] += sample_k_max\n",
    "        N_a[k_max] += 1\n",
    "        means[k_max] = sums[k_max] / N_a[k_max]\n",
    "        \n",
    "        # Update the time\n",
    "        t += 1\n",
    "        \n",
    "        # Update rew and draws\n",
    "        rew.append(sample_k_max)\n",
    "        draws.append(k_max)\n",
    "        \n",
    "    return [rew, draws]"
   ]
  },
  {
   "cell_type": "markdown",
   "metadata": {},
   "source": [
    "## 2.3 - Thomson Sampling"
   ]
  },
  {
   "cell_type": "code",
   "execution_count": 4,
   "metadata": {
    "ExecuteTime": {
     "end_time": "2018-11-26T11:05:53.285853Z",
     "start_time": "2018-11-26T11:05:53.281084Z"
    }
   },
   "outputs": [],
   "source": [
    "class UniformArm(object):\n",
    "    def __init__(self):\n",
    "        \"\"\"\n",
    "        Args:\n",
    "            random_state (int): seed to make experiments reproducible\n",
    "        \"\"\"\n",
    "        self.local_random = np.random.RandomState(np.random.randint(1, 312414))\n",
    "\n",
    "    def sample(self):\n",
    "        return self.local_random.uniform()"
   ]
  },
  {
   "cell_type": "code",
   "execution_count": 5,
   "metadata": {
    "ExecuteTime": {
     "end_time": "2018-11-26T11:05:53.478747Z",
     "start_time": "2018-11-26T11:05:53.471613Z"
    }
   },
   "outputs": [],
   "source": [
    "def TS(T, MAB):\n",
    "    \"\"\"Simulate a bandit game of length T on the MAB given as argument \n",
    "       with the Thomson Sampling strategy.\"\"\"\n",
    "    \n",
    "    # Sequence of T rewards and of the T arms drawn\n",
    "    rew = []\n",
    "    draws = []\n",
    "        \n",
    "    # Number of arms\n",
    "    K = len(MAB)\n",
    "    \n",
    "    # Initialisation of the approxiamted distributions\n",
    "    distributions = np.array([UniformArm() for i in range(K)])\n",
    "    \n",
    "    # Initialisation of the approxiamted sums, means and counter of each arms\n",
    "    sums = np.zeros(K)\n",
    "    N_a = np.zeros(K)\n",
    "    means = np.zeros(K)\n",
    "        \n",
    "    # Initialisation of the time\n",
    "    t = 0\n",
    "        \n",
    "    # Chooses the best arm according to the sample from the approximated laws\n",
    "    while t < (T - 1):\n",
    "        \n",
    "        # Compute the distributions\n",
    "        for k in range(K):\n",
    "            \n",
    "            # Extract S_a_t and N_a_t\n",
    "            N_a_t = N_a[k]\n",
    "            S_a_t = sums[k]\n",
    "            \n",
    "            # Compute the new distribution\n",
    "            distributions[k] = arms.ArmBeta(S_a_t + 1, N_a_t - S_a_t + 1)\n",
    "        \n",
    "        # Extract a sample for each law\n",
    "        samples = [arm.sample() for arm in distributions]\n",
    "        \n",
    "        # Compute the argmax\n",
    "        k_max = np.argmax(samples)\n",
    "        \n",
    "        # Draw a sample of arm k\n",
    "        sample_k_max = MAB[k_max].sample()\n",
    "        \n",
    "        # Update the sum, the mean and the counter of arm k\n",
    "        sums[k_max] += sample_k_max\n",
    "        N_a[k_max] += 1\n",
    "        means[k_max] = sums[k_max] / N_a[k_max]\n",
    "        \n",
    "        # Update the time\n",
    "        t += 1\n",
    "        \n",
    "        # Update rew and draws\n",
    "        rew.append(sample_k_max)\n",
    "        draws.append(k_max)\n",
    "        \n",
    "    return [rew, draws]"
   ]
  },
  {
   "cell_type": "markdown",
   "metadata": {},
   "source": [
    "## 2.4 - Naive Strategy"
   ]
  },
  {
   "cell_type": "code",
   "execution_count": 6,
   "metadata": {
    "ExecuteTime": {
     "end_time": "2018-11-26T11:05:54.248401Z",
     "start_time": "2018-11-26T11:05:54.238536Z"
    }
   },
   "outputs": [],
   "source": [
    "def naiveStrategy(T, MAB):\n",
    "    \"\"\"Select the empirical best arm at each round.\"\"\"\n",
    "    \n",
    "    # Sequence of T rewards and of the T arms drawn\n",
    "    rew = []\n",
    "    draws = []\n",
    "        \n",
    "    # Number of arms\n",
    "    K = len(MAB)\n",
    "    \n",
    "    # Initialisation of the approxiamted sums, means and counter of each arms\n",
    "    sums = np.zeros(K)\n",
    "    means = np.zeros(K)\n",
    "    N_a = np.zeros(K)\n",
    "    \n",
    "    # Initialisation of the time\n",
    "    t = 0\n",
    "    \n",
    "    # First: Draw each arm\n",
    "    while t < (T - 1) and t < K:\n",
    "        \n",
    "        # Arm to draw\n",
    "        k = t\n",
    "        \n",
    "        # Draw a sample of arm k\n",
    "        sample_k = MAB[k].sample()\n",
    "        \n",
    "        # Update the mean and the counter of arm k\n",
    "        sums[k] += sample_k\n",
    "        means[k] += sample_k\n",
    "        N_a[k] += 1\n",
    "        \n",
    "        # Update the time\n",
    "        t += 1\n",
    "        \n",
    "        # Update rew and draws\n",
    "        rew.append(sample_k)\n",
    "        draws.append(k)\n",
    "        \n",
    "    # Second: Chooses the best arm in the best possible world\n",
    "    while t < (T - 1):\n",
    "        \n",
    "        # Compute the argmax\n",
    "        k_max = np.argmax(means)\n",
    "        \n",
    "        # Draw a sample of arm k\n",
    "        sample_k_max = MAB[k_max].sample()\n",
    "        \n",
    "        # Update the sum, the mean and the counter of arm k\n",
    "        sums[k_max] += sample_k_max\n",
    "        N_a[k_max] += 1\n",
    "        means[k_max] = sums[k_max] / N_a[k_max]\n",
    "        \n",
    "        # Update the time\n",
    "        t += 1\n",
    "        \n",
    "        # Update rew and draws\n",
    "        rew.append(sample_k_max)\n",
    "        draws.append(k_max)\n",
    "        \n",
    "    return [rew, draws]"
   ]
  },
  {
   "cell_type": "markdown",
   "metadata": {},
   "source": [
    "## 2.5 - Estimation of the expected regret with many simulations"
   ]
  },
  {
   "cell_type": "code",
   "execution_count": 7,
   "metadata": {
    "ExecuteTime": {
     "end_time": "2018-11-26T11:05:54.781490Z",
     "start_time": "2018-11-26T11:05:54.777330Z"
    }
   },
   "outputs": [],
   "source": [
    "def regretEstimation(T, MAB, n=500, strategy=UCB1):\n",
    "    \"\"\"This function estimates the expected regret trough n simulations.\"\"\"\n",
    "    \n",
    "    # Extract the maximal mean\n",
    "    means = [el.mean for el in MAB]\n",
    "    p_star = np.max(means)\n",
    "    \n",
    "    # Initialisation of the mean reward\n",
    "    reward = 0\n",
    "    \n",
    "    # Simulate n parties\n",
    "    for i in range(n):\n",
    "        \n",
    "        # Result of the i-th simulation\n",
    "        rew, draws = strategy(T, MAB)\n",
    "        \n",
    "        # Update the reward\n",
    "        reward += np.array(rew).sum()\n",
    "        \n",
    "    # Mean of the rewards\n",
    "    reward /= n\n",
    "\n",
    "    return T * p_star - reward"
   ]
  },
  {
   "cell_type": "markdown",
   "metadata": {},
   "source": [
    "## 2.6 - Computation of the values of the oracle"
   ]
  },
  {
   "cell_type": "code",
   "execution_count": 8,
   "metadata": {
    "ExecuteTime": {
     "end_time": "2018-11-26T11:05:55.871480Z",
     "start_time": "2018-11-26T11:05:55.868307Z"
    }
   },
   "outputs": [],
   "source": [
    "def KL(p_1, p_2):\n",
    "    \"\"\"Compute the Kullback-Liebler divergence for two different Bernoulli laws.\"\"\"\n",
    "    \n",
    "    result = p_1 * np.log(p_1 / p_2) + (1 - p_1) * np.log((1 - p_1) / (1 - p_2))\n",
    "    \n",
    "    return result"
   ]
  },
  {
   "cell_type": "code",
   "execution_count": 9,
   "metadata": {
    "ExecuteTime": {
     "end_time": "2018-11-26T11:05:56.261414Z",
     "start_time": "2018-11-26T11:05:56.257118Z"
    }
   },
   "outputs": [],
   "source": [
    "def complexity(MAB):\n",
    "    \"\"\"Compute the complexity of our problem.\"\"\"\n",
    "    \n",
    "    # Extract the probabilities of the Bernoulli laws.\n",
    "    p = np.array([el.mean for el in MAB])\n",
    "    p_star = np.max(p)\n",
    "\n",
    "    # Initialisation of the complexity\n",
    "    C = 0\n",
    "    \n",
    "    # Compute the complexity\n",
    "    for a in range(len(p)):\n",
    "        \n",
    "        # Extract the current p\n",
    "        p_a = p[a]\n",
    "        \n",
    "        if p_a != p_star:\n",
    "            \n",
    "            # Compute the divergence\n",
    "            kl_a = KL(p_a, p_star)\n",
    "\n",
    "            # Update the complexity\n",
    "            C += (p_star - p_a) / kl_a\n",
    "            \n",
    "    return C"
   ]
  },
  {
   "cell_type": "code",
   "execution_count": 10,
   "metadata": {
    "ExecuteTime": {
     "end_time": "2018-11-26T11:05:56.693441Z",
     "start_time": "2018-11-26T11:05:56.690710Z"
    }
   },
   "outputs": [],
   "source": [
    "def oracleCurve(MAB, t):\n",
    "    \"\"\"Compute the value of the oracle according to the model given as argument and t.\"\"\"\n",
    "    \n",
    "    # Compute the complexity\n",
    "    C = complexity(MAB)\n",
    "    \n",
    "    return C * np.log(t)"
   ]
  },
  {
   "cell_type": "markdown",
   "metadata": {},
   "source": [
    "## 2.7 - Plotting functions"
   ]
  },
  {
   "cell_type": "code",
   "execution_count": 11,
   "metadata": {
    "ExecuteTime": {
     "end_time": "2018-11-26T11:05:57.565458Z",
     "start_time": "2018-11-26T11:05:57.557798Z"
    }
   },
   "outputs": [],
   "source": [
    "def plotRegretCurves(MAB, nb_T=5, max_T=2500, n_MC=500, oracle=True):\n",
    "    \"\"\"Plot the Regret curves over the number of iterations for MAB.\"\"\"    \n",
    "    \n",
    "    # Parameters of the figure\n",
    "    plt.figure(figsize=(12,8))\n",
    "    plt.grid(True)\n",
    "    \n",
    "    # Array of the different T\n",
    "    T_l = np.linspace(1, max_T, nb_T, dtype=int)\n",
    "    \n",
    "    # Array of the strategies\n",
    "    strategies = [UCB1, TS, naiveStrategy]\n",
    "    \n",
    "    # Plot the regret curve for the different strategies\n",
    "    for s in tqdm.tqdm(range(len(strategies))):\n",
    "        \n",
    "        # Compute the regret for each T for the given strategy\n",
    "        regret_l = []\n",
    "        for t in range(len(T_l)):\n",
    "            regret_l.append(regretEstimation(T_l[t], MAB, n=n_MC, strategy=strategies[s]))\n",
    "        \n",
    "        # Plot\n",
    "        plt.scatter(T_l, regret_l, label=strategies[s].__name__, marker=\"x\")\n",
    "    \n",
    "    # Add the oracle curve\n",
    "    if oracle:\n",
    "        voracleCurve = np.vectorize(lambda t: oracleCurve(MAB, t))\n",
    "        oracle_l = voracleCurve(T_l)\n",
    "        plt.scatter(T_l, oracle_l, label=\"Oracle\", marker=\"x\")\n",
    "        \n",
    "        # Save the plot\n",
    "        name = str(round(complexity(MAB), 2))\n",
    "        plt.savefig(\"./Images/Regret_Curves_C_=_\" + name + \".eps\", bbox_inches='tight', pad_inches=0.0)\n",
    "    \n",
    "    # Legend\n",
    "    plt.xlabel(\"Rounds\")\n",
    "    plt.ylabel(\"Cumulative Regret\")\n",
    "    plt.legend()\n",
    "\n",
    "    # Display\n",
    "    plt.show()"
   ]
  },
  {
   "cell_type": "markdown",
   "metadata": {},
   "source": [
    "## 2.8 - Computation of the regret for different strategies"
   ]
  },
  {
   "cell_type": "markdown",
   "metadata": {},
   "source": [
    "### 2.8.1 - Low Complexity: C = 2.16"
   ]
  },
  {
   "cell_type": "code",
   "execution_count": 12,
   "metadata": {
    "ExecuteTime": {
     "end_time": "2018-11-26T11:05:59.188543Z",
     "start_time": "2018-11-26T11:05:59.183576Z"
    }
   },
   "outputs": [
    {
     "name": "stdout",
     "output_type": "stream",
     "text": [
      "2.1620936547523386\n"
     ]
    }
   ],
   "source": [
    "# Definition of Multi-Bandit Arms\n",
    "arm1_1 = arms.ArmBernoulli(0.25, random_state=np.random.randint(1, 312414))\n",
    "arm2_1 = arms.ArmBernoulli(0.30, random_state=np.random.randint(1, 312414))\n",
    "arm3_1 = arms.ArmBernoulli(0.35, random_state=np.random.randint(1, 312414))\n",
    "arm4_1 = arms.ArmBernoulli(0.85, random_state=np.random.randint(1, 312414))\n",
    "MAB_1 = [arm1_1, arm2_1, arm3_1, arm4_1]\n",
    "\n",
    "# Display the complexity of this model\n",
    "print(complexity(MAB_1))"
   ]
  },
  {
   "cell_type": "code",
   "execution_count": 25,
   "metadata": {
    "ExecuteTime": {
     "end_time": "2018-11-24T17:10:58.619005Z",
     "start_time": "2018-11-24T16:53:21.059142Z"
    },
    "scrolled": true
   },
   "outputs": [
    {
     "name": "stderr",
     "output_type": "stream",
     "text": [
      "100%|██████████| 3/3 [17:37<00:00, 282.87s/it]\n"
     ]
    },
    {
     "data": {
      "image/png": "[encoded data removed]",
      "text/plain": [
       "<Figure size 864x576 with 1 Axes>"
      ]
     },
     "metadata": {},
     "output_type": "display_data"
    }
   ],
   "source": [
    "# Displaying of the regret curves\n",
    "plotRegretCurves(MAB_1, nb_T=10, max_T=2500, n_MC=1000)"
   ]
  },
  {
   "cell_type": "markdown",
   "metadata": {},
   "source": [
    "\\begin{itemize}\n",
    "    \\item First, we can observe that the naive strategy is the worst. In fact, if we look at it more closely, we can understand that the value of the regret will depend a lot on the initialisation of the means of the different arms. In particular, if the sample of initialisation of the best arm is equal to 0 (here we use Bernoulli law), it will be very unlikely to use that arm later.\n",
    "    \\item Second, we can observe that the Thomson-Sampling strategies perform a little bit better than the naive one. In fact, the best arm of our MAB is pretty easy to detect. So, even if the exploitation of the arms is better managed by the TS algorithm, it is not so advantageous in comparison with the naive strategy because at the same time it is harder for the TS algorithm to learn the true distribution trough Beta distribution.\n",
    "    \\item Third, we can observe that neither the Thomson-Sampling strategy nor the UCB1 strategy perform better than the lower bound.\n",
    "        \\item Fourth, the UCB1 performs the best. It seems logic. In fact, as the sub-optimal arms are really less efficient than the best one, the exploration is really simplified and so we can expect that the UCB1 algorithm to detect really quickly the best arm and so to draw it much more often than for the TS strategy which need more iterations.\n",
    "\\end{itemize}"
   ]
  },
  {
   "cell_type": "markdown",
   "metadata": {},
   "source": [
    "### 2.8.2 - Model with high complexity: C = 18"
   ]
  },
  {
   "cell_type": "code",
   "execution_count": 13,
   "metadata": {
    "ExecuteTime": {
     "end_time": "2018-11-26T11:06:01.605175Z",
     "start_time": "2018-11-26T11:06:01.597774Z"
    }
   },
   "outputs": [
    {
     "name": "stdout",
     "output_type": "stream",
     "text": [
      "18.231880696697445\n"
     ]
    }
   ],
   "source": [
    "# Definition of Multi-Bandit Arms\n",
    "arm1_2 = arms.ArmBernoulli(0.35, random_state=np.random.randint(1, 312414))\n",
    "arm2_2 = arms.ArmBernoulli(0.40, random_state=np.random.randint(1, 312414))\n",
    "arm3_2 = arms.ArmBernoulli(0.45, random_state=np.random.randint(1, 312414))\n",
    "arm4_2 = arms.ArmBernoulli(0.50, random_state=np.random.randint(1, 312414))\n",
    "MAB_2 = [arm1_2, arm2_2, arm3_2, arm4_2]\n",
    "\n",
    "# Display the complexity of this model\n",
    "print(complexity(MAB_2))"
   ]
  },
  {
   "cell_type": "code",
   "execution_count": 14,
   "metadata": {
    "ExecuteTime": {
     "end_time": "2018-11-26T07:15:34.993887Z",
     "start_time": "2018-11-26T06:54:57.108231Z"
    }
   },
   "outputs": [
    {
     "name": "stderr",
     "output_type": "stream",
     "text": [
      "100%|██████████| 3/3 [20:37<00:00, 331.99s/it]\n"
     ]
    },
    {
     "data": {
      "image/png": "[encoded data removed]",
      "text/plain": [
       "<Figure size 864x576 with 1 Axes>"
      ]
     },
     "metadata": {
      "needs_background": "light"
     },
     "output_type": "display_data"
    }
   ],
   "source": [
    "# Displaying of the regret curves\n",
    "plotRegretCurves(MAB_2, nb_T=10, max_T=8000, n_MC=400)"
   ]
  },
  {
   "cell_type": "markdown",
   "metadata": {},
   "source": [
    "\\begin{itemize}\n",
    "    \\item Here, we can observe that the scale of the cumulated regret is bigger than the one in the past model, in particular for the lower bound. In fact, in this new model, the arms have probabilities very close. Hence it is hard to learn which arm is the best and so the regret increase quickly.\n",
    "    \\item Second, we can observe that the strategies UCB1 and Thomson-Sampling continue to increase rapidly, even after 7000 iterations. It is caused by the high complexity of our model. In fact, as the arms have very close probability, the number of times a sub-optimal arm will be drawn is going to be much higher than before.\n",
    "    \\item Third, as before we can observe that the cumulated regret of all the strategies becomes bigger than the lower bound after some iterations. However, we can observe that at the beginning, all the strategies performs better than the lower bound. In fact, the lower bound is true only at the infinite, so it still coherent.\n",
    "\\end{itemize}"
   ]
  },
  {
   "cell_type": "markdown",
   "metadata": {},
   "source": [
    "## 2.9 - Non parametric Bandit Games"
   ]
  },
  {
   "cell_type": "markdown",
   "metadata": {},
   "source": [
    "### 2.9.1 - Adaptation of the Thomson Sampling Algorithm"
   ]
  },
  {
   "cell_type": "markdown",
   "metadata": {},
   "source": [
    "Here we adapt the Thomson Sampling Algorithm to manage arms with non binary output. For doing that, we use the work done by \\textit{ Shipra Agrawal and Navin Goyal}, in \\textit{ Analysis of thompson sampling for the multi-armed bandit problem.} that can be found at http://proceedings.mlr.press/v23/agrawal12/agrawal12.pdf. \n",
    "\n",
    "The modifications are quite simple if we consider only laws with a support inside [0,1]. At each round, we still continue to draw the arm that maximises:\n",
    "\n",
    "\\begin{equation}\n",
    "    \\theta_a^t, ~~\\text{where} ~~ \\theta_a^t ~~ \\sim ~~ π_a(t) := Beta (S_a(t) + 1; N_a(t) − S_a(t) + 1)\n",
    "\\end{equation}\n",
    "\n",
    "Let's call $a^*$ the maximising arm.\n",
    "\n",
    "Then, we continue to draw the arm $a^*$ and we obtain a reward $\\tilde{r}_t$. Next, instead of using directly that reward as before, we use it as the parameter of a Bernoulli law $\\mathcal{B}(\\tilde{r}_t)$. We execute this Bernoulli law and we obtain a new binary reward $r_t$. Finally, we use it as the as the normal reward and the next computations does not change."
   ]
  },
  {
   "cell_type": "code",
   "execution_count": 14,
   "metadata": {
    "ExecuteTime": {
     "end_time": "2018-11-26T11:06:05.040393Z",
     "start_time": "2018-11-26T11:06:05.032187Z"
    }
   },
   "outputs": [],
   "source": [
    "def TS2(T, MAB):\n",
    "    \"\"\"Simulate a bandit game of length T on the MAB given as argument \n",
    "       with the Thomson Sampling strategy adapted for non Bernoulli law.\"\"\"\n",
    "    \n",
    "    # Sequence of T rewards and of the T arms drawn\n",
    "    rew = []\n",
    "    draws = []\n",
    "        \n",
    "    # Number of arms\n",
    "    K = len(MAB)\n",
    "    \n",
    "    # Initialisation of the approxiamted distributions\n",
    "    distributions = np.array([UniformArm() for i in range(K)])\n",
    "    \n",
    "    # Initialisation of the approxiamted sums, means and counter of each arms\n",
    "    sums = np.zeros(K)\n",
    "    N_a = np.zeros(K)\n",
    "    means = np.zeros(K)\n",
    "        \n",
    "    # Initialisation of the time\n",
    "    t = 0\n",
    "        \n",
    "    # Chooses the best arm according to the sample from the approximated laws\n",
    "    while t < (T - 1):\n",
    "        \n",
    "        # Compute the distributions\n",
    "        for k in range(K):\n",
    "            \n",
    "            # Extract S_a_t and N_a_t\n",
    "            N_a_t = N_a[k]\n",
    "            S_a_t = sums[k]\n",
    "            \n",
    "            # Compute the new distribution\n",
    "            distributions[k] = arms.ArmBeta(S_a_t + 1, N_a_t - S_a_t + 1)\n",
    "        \n",
    "        # Extract a sample for each law\n",
    "        samples = [arm.sample() for arm in distributions]\n",
    "        \n",
    "        # Compute the argmax\n",
    "        k_max = np.argmax(samples)\n",
    "        \n",
    "        # Draw a sample of arm k\n",
    "        sample_k_max = MAB[k_max].sample()\n",
    "        \n",
    "        # Peform a Bernoulli test with porbability sample_k_max\n",
    "        # http://proceedings.mlr.press/v23/agrawal12/agrawal12.pdf\n",
    "        r_t_delta = np.random.rand()\n",
    "        if r_t_delta < sample_k_max:\n",
    "            r_t = 1\n",
    "        else:\n",
    "            r_t = 0\n",
    "        \n",
    "        # Update the sum, the mean and the counter of arm k\n",
    "        sums[k_max] += r_t\n",
    "        N_a[k_max] += 1\n",
    "        means[k_max] = sums[k_max] / N_a[k_max]\n",
    "        \n",
    "        # Update the time\n",
    "        t += 1\n",
    "        \n",
    "        # Update rew and draws\n",
    "        rew.append(sample_k_max)\n",
    "        draws.append(k_max)\n",
    "        \n",
    "    return [rew, draws]"
   ]
  },
  {
   "cell_type": "markdown",
   "metadata": {
    "ExecuteTime": {
     "end_time": "2018-11-18T16:07:07.985176Z",
     "start_time": "2018-11-18T16:07:07.980623Z"
    }
   },
   "source": [
    "### 2.9.2 - The lower bound holds also for more general probability distributions"
   ]
  },
  {
   "cell_type": "markdown",
   "metadata": {},
   "source": [
    "According to \\textit{ Burnetas and Katehakis} and this blog \"blogs.princeton.edu/imabandit/2016/05/11/bandit-theory-part-i/\" , the lower bound holds for more general probability distribution and the complexity notion can be adapted for more genral probability distribution. Moreover, we can remark that in the past algorithm all happen as if the mean of the different laws corresponded to the probability p of the Bernoulli law. So, at the end the complexity still make sense."
   ]
  },
  {
   "cell_type": "markdown",
   "metadata": {},
   "source": [
    "### 2.9.3 - Definition of a new MAB"
   ]
  },
  {
   "cell_type": "code",
   "execution_count": 15,
   "metadata": {
    "ExecuteTime": {
     "end_time": "2018-11-26T11:06:06.936016Z",
     "start_time": "2018-11-26T11:06:06.930968Z"
    }
   },
   "outputs": [],
   "source": [
    "# Definition of Multi-Bandit Arms\n",
    "arm1_3 = arms.ArmBernoulli(0.35, random_state=np.random.randint(1, 312414))\n",
    "arm2_3 = arms.ArmBeta(a=5, b=10, random_state=np.random.randint(1, 312414))\n",
    "arm3_3 = arms.ArmExp(L=2, random_state=np.random.randint(1, 312414))\n",
    "# For the arm finite, we have to take care to consider a support inside [0,1]\n",
    "arm4_3 = arms.ArmFinite(X=np.array([0.25, 0.15, 0.75, 0.5]),\n",
    "                        P=np.array([0.2, 0.3, 0.4, 0.1]), \n",
    "                        random_state=np.random.randint(1, 312414))\n",
    "MAB_3 = [arm1_3, arm2_3, arm3_3, arm4_3]\n",
    "\n",
    "# Display the complexity of this model\n",
    "# print(complexity(MAB_3))"
   ]
  },
  {
   "cell_type": "code",
   "execution_count": 29,
   "metadata": {
    "ExecuteTime": {
     "end_time": "2018-11-24T18:32:16.404166Z",
     "start_time": "2018-11-24T17:13:18.054280Z"
    }
   },
   "outputs": [
    {
     "name": "stderr",
     "output_type": "stream",
     "text": [
      "100%|██████████| 3/3 [1:18:57<00:00, 1432.26s/it]\n"
     ]
    },
    {
     "data": {
      "image/png": "[encoded data removed]",
      "text/plain": [
       "<Figure size 864x576 with 1 Axes>"
      ]
     },
     "metadata": {},
     "output_type": "display_data"
    }
   ],
   "source": [
    "# Displaying of the regret curves\n",
    "plotRegretCurves(MAB_3, nb_T=10, max_T=2500, n_MC=1000, oracle=False)"
   ]
  },
  {
   "cell_type": "markdown",
   "metadata": {},
   "source": [
    "\n",
    "# 3 - Linear Bandit on Real Data"
   ]
  },
  {
   "cell_type": "markdown",
   "metadata": {},
   "source": [
    "## 3.1 - Packages"
   ]
  },
  {
   "cell_type": "code",
   "execution_count": 16,
   "metadata": {
    "ExecuteTime": {
     "end_time": "2018-11-26T11:06:09.336137Z",
     "start_time": "2018-11-26T11:06:09.332628Z"
    }
   },
   "outputs": [],
   "source": [
    "from linearmab_models import ToyLinearModel, ColdStartMovieLensModel"
   ]
  },
  {
   "cell_type": "markdown",
   "metadata": {},
   "source": [
    "## 3.2 - LinUCB"
   ]
  },
  {
   "cell_type": "code",
   "execution_count": 17,
   "metadata": {
    "ExecuteTime": {
     "end_time": "2018-11-26T11:06:10.147077Z",
     "start_time": "2018-11-26T11:06:10.142688Z"
    }
   },
   "outputs": [],
   "source": [
    "def beta_t(alpha, inv, phi, K):\n",
    "    \"\"\"Compute beta_t for all actions.\"\"\"\n",
    "    \n",
    "    # Parameters\n",
    "    K, d = np.shape(phi)\n",
    "    \n",
    "    # Initialisation of the saving beta\n",
    "    beta_t = []\n",
    "    \n",
    "    # Compute beta_t_a for all action\n",
    "    for a in range(K):\n",
    "        \n",
    "        # Extract phi_a_t\n",
    "        phi_a_t = phi[a, :]\n",
    "        \n",
    "        # Compute beta_t_a\n",
    "        beta_t_a = alpha * np.sqrt(np.dot(phi_a_t.T, np.dot(inv, phi_a_t)))\n",
    "        \n",
    "        # Compute beta_t_a\n",
    "        beta_t.append(beta_t_a)\n",
    "    \n",
    "    # Reshape the array of beta_t\n",
    "    beta_t = np.array(beta_t).reshape((-1, 1))\n",
    "    \n",
    "    return beta_t"
   ]
  },
  {
   "cell_type": "code",
   "execution_count": 18,
   "metadata": {
    "ExecuteTime": {
     "end_time": "2018-11-26T11:06:10.575569Z",
     "start_time": "2018-11-26T11:06:10.572547Z"
    }
   },
   "outputs": [],
   "source": [
    "def A_t_recursive(phi_a_t, A_t_1):\n",
    "    \"\"\"Return the value of A_t for the given model.\"\"\"\n",
    "    \n",
    "    # Reshape phi_a_t\n",
    "    phi_a_t = phi_a_t.reshape((-1, 1))\n",
    "    \n",
    "    # Compute A_t\n",
    "    A_t = A_t_1 + np.dot(phi_a_t, phi_a_t.T)\n",
    "    \n",
    "    return A_t"
   ]
  },
  {
   "cell_type": "code",
   "execution_count": 19,
   "metadata": {
    "ExecuteTime": {
     "end_time": "2018-11-26T11:06:10.954662Z",
     "start_time": "2018-11-26T11:06:10.949800Z"
    }
   },
   "outputs": [],
   "source": [
    "def b_t_recursive(phi_a_t, r_a_t, b_t_1):\n",
    "    \"\"\"Compute the next iteration of b_t.\"\"\"\n",
    "    \n",
    "    # Reshape phi_a_t\n",
    "    phi_a_t = phi_a_t.reshape((-1, 1))\n",
    "    \n",
    "    # Compute the next iteration of b\n",
    "    b_t = b_t_1 + phi_a_t * r_a_t\n",
    "    \n",
    "    return b_t"
   ]
  },
  {
   "cell_type": "code",
   "execution_count": 54,
   "metadata": {
    "ExecuteTime": {
     "end_time": "2018-11-26T13:50:59.494508Z",
     "start_time": "2018-11-26T13:50:59.485339Z"
    }
   },
   "outputs": [],
   "source": [
    "def LinUCB(model, T, alpha=1, lambda_const=1):\n",
    "    \"\"\"Executes the Linear UCB for the model given as argument until T.\"\"\"\n",
    "    \n",
    "    # Parameters\n",
    "    K = model.n_actions\n",
    "    d = model.n_features\n",
    "    \n",
    "    # Sequence of T rewards and of the T arms drawn\n",
    "    rew = []\n",
    "    draws = []\n",
    "    \n",
    "    # Extraction of the phi\n",
    "    phi = model.features\n",
    "    \n",
    "    # Initialisation of theta, A_t, b_t\n",
    "    theta_t = np.random.rand(d).reshape((d, 1))\n",
    "    A_t = lambda_const * np.eye(d, d)\n",
    "    b_t = 0\n",
    "    \n",
    "    # Compute the inverse of A_t\n",
    "    inv = np.linalg.inv(A_t)\n",
    "        \n",
    "    # Initialisation of the time\n",
    "    t = 0\n",
    "        \n",
    "     # Second: Chooses the best arm in the best possible world\n",
    "    while t < (T - 1):\n",
    "        \n",
    "        # Compute the bound beta_t\n",
    "        beta_t_value = beta_t(alpha, inv, phi, K)\n",
    "        \n",
    "        # Compute the upper bounds\n",
    "        R = np.dot(phi, theta_t) + beta_t_value\n",
    "        \n",
    "        # Compute the argmax\n",
    "        a_t = np.argmax(R)\n",
    "\n",
    "        # Extract phi_a_t\n",
    "        phi_a_t = phi[a_t, :]\n",
    "\n",
    "        # Draw a sample of arm a\n",
    "        r_a_t = model.reward(a_t)\n",
    "        \n",
    "        # Update the time, A_t and b_t\n",
    "        t += 1\n",
    "        A_t = A_t_recursive(phi_a_t, A_t)\n",
    "        b_t = b_t_recursive(phi_a_t, r_a_t, b_t)\n",
    "                \n",
    "        # Compute the inverse of A_t and theta_t\n",
    "        inv = np.linalg.inv(A_t)\n",
    "        theta_t = np.dot(inv, b_t).reshape((-1, 1))\n",
    "        \n",
    "        # Update rew and draws\n",
    "        rew.append(r_a_t)\n",
    "        draws.append(phi_a_t)\n",
    "        \n",
    "    return [rew, draws, theta_t]"
   ]
  },
  {
   "cell_type": "markdown",
   "metadata": {},
   "source": [
    "## 3.3 - Random policy"
   ]
  },
  {
   "cell_type": "code",
   "execution_count": 84,
   "metadata": {
    "ExecuteTime": {
     "end_time": "2018-11-26T13:55:13.592838Z",
     "start_time": "2018-11-26T13:55:13.581862Z"
    }
   },
   "outputs": [],
   "source": [
    "def randomPolicy(model, T, lambda_const=1):\n",
    "    \"\"\"Executes the random policy over the model given as argument until T.\"\"\"\n",
    "    \n",
    "    # Parameters\n",
    "    K = model.n_actions\n",
    "    d = model.n_features\n",
    "    \n",
    "    # Sequence of T rewards and of the T arms drawn\n",
    "    rew = []\n",
    "    draws = []\n",
    "    \n",
    "    # Extraction of the phi\n",
    "    phi = model.features\n",
    "        \n",
    "    # Initialisation of the time\n",
    "    t = 0\n",
    "    \n",
    "    # Initialisation of theta, A_t, b_t\n",
    "    theta_t = np.random.rand(d).reshape((d, 1))\n",
    "    A_t = lambda_const * np.eye(d, d)\n",
    "    b_t = 0\n",
    "        \n",
    "    # Second: Chooses the best arm in the best possible world\n",
    "    while t < (T - 1):\n",
    "        \n",
    "        # Choose a random action\n",
    "        a_t = np.random.randint(0, K)\n",
    "        \n",
    "        # Extract phi_a_t\n",
    "        phi_a_t = phi[a_t, :]\n",
    "\n",
    "        # Draw a sample of arm a\n",
    "        r_a_t = model.reward(a_t)\n",
    "        \n",
    "        # Update the time, A_t and b_t\n",
    "        t += 1\n",
    "        A_t = A_t_recursive(phi_a_t, A_t)\n",
    "        b_t = b_t_recursive(phi_a_t, r_a_t, b_t)\n",
    "                \n",
    "        # Compute the inverse of A_t and theta_t\n",
    "        inv = np.linalg.inv(A_t)\n",
    "        theta_t = np.dot(inv, b_t).reshape((-1, 1))\n",
    "        \n",
    "        # Update rew and draws\n",
    "        rew.append(r_a_t)\n",
    "        draws.append(phi_a_t)\n",
    "        \n",
    "    return [rew, draws, theta_t]"
   ]
  },
  {
   "cell_type": "markdown",
   "metadata": {},
   "source": [
    "## 3.4 - Greedy Policy"
   ]
  },
  {
   "cell_type": "code",
   "execution_count": 56,
   "metadata": {
    "ExecuteTime": {
     "end_time": "2018-11-26T13:51:02.015976Z",
     "start_time": "2018-11-26T13:51:02.008708Z"
    }
   },
   "outputs": [],
   "source": [
    "def epsilonGreedy(model, T, epsilon=0.1, lambda_const=1):\n",
    "    \"\"\"Executes the epsilon greedy policy over the model given as argument until T.\"\"\"\n",
    "    \n",
    "    # Parameters\n",
    "    K = model.n_actions\n",
    "    d = model.n_features\n",
    "    \n",
    "    # Sequence of T rewards and of the T arms drawn\n",
    "    rew = []\n",
    "    draws = []\n",
    "    \n",
    "    # Extraction of the phi\n",
    "    phi = model.features\n",
    "    \n",
    "    # Initialisation of theta, A_t, b_t\n",
    "    theta_t = np.random.rand(d).reshape((d, 1))\n",
    "    A_t = lambda_const * np.eye(d, d)\n",
    "    b_t = 0\n",
    "        \n",
    "    # Initialisation of the time\n",
    "    t = 0\n",
    "        \n",
    "     # Second: Chooses the best arm in the best possible world\n",
    "    while t < (T - 1):\n",
    "\n",
    "        # Compute the upper bounds\n",
    "        R = np.dot(phi, theta_t)\n",
    "        \n",
    "        # Compute the argmax\n",
    "        a_t = np.argmax(R)\n",
    "        \n",
    "        # Choose the random policy with probability epsilon\n",
    "        rand = np.random.rand()\n",
    "        if rand < epsilon:\n",
    "            # Choose a random action\n",
    "            a_t = np.random.randint(0, K)\n",
    "        \n",
    "        # Extract phi_a_t\n",
    "        phi_a_t = phi[a_t, :]\n",
    "\n",
    "        # Draw a sample of arm a\n",
    "        r_a_t = model.reward(a_t)\n",
    "        \n",
    "        # Update the time, A_t, b_t, theta_t\n",
    "        t += 1\n",
    "        A_t = A_t_recursive(phi_a_t, A_t)\n",
    "        b_t = b_t_recursive(phi_a_t, r_a_t, b_t)\n",
    "        theta_t = np.dot(np.linalg.inv(A_t), b_t).reshape((-1, 1))\n",
    "        \n",
    "        # Update rew and draws\n",
    "        rew.append(r_a_t)\n",
    "        draws.append(phi_a_t)\n",
    "        \n",
    "    return [rew, draws, theta_t]"
   ]
  },
  {
   "cell_type": "markdown",
   "metadata": {},
   "source": [
    "## 3.5 - $L^2$ norm"
   ]
  },
  {
   "cell_type": "code",
   "execution_count": 23,
   "metadata": {
    "ExecuteTime": {
     "end_time": "2018-11-26T11:06:14.036333Z",
     "start_time": "2018-11-26T11:06:14.031451Z"
    }
   },
   "outputs": [],
   "source": [
    "def l2Norm(theta, model):\n",
    "    \"\"\"Take an array of theta computed by a strategy over different simulations.\"\"\"\n",
    "    \n",
    "    # Extract real_theta\n",
    "    real_theta = model.real_theta\n",
    "    real_theta = real_theta.reshape((1, -1))\n",
    "    \n",
    "    # Compute the L2 norm\n",
    "    norm = np.mean(np.sqrt(np.sum((real_theta - theta) ** 2, axis=1)))\n",
    "    \n",
    "    return norm"
   ]
  },
  {
   "cell_type": "markdown",
   "metadata": {},
   "source": [
    "## 3.6 - Expected Cumulative Regret"
   ]
  },
  {
   "cell_type": "code",
   "execution_count": 24,
   "metadata": {
    "ExecuteTime": {
     "end_time": "2018-11-26T11:06:15.022496Z",
     "start_time": "2018-11-26T11:06:15.017657Z"
    }
   },
   "outputs": [],
   "source": [
    "def cumulativeRegret(model, T, rewards_l):\n",
    "    \"\"\"Compute the mean regret computed over different simulations.\"\"\"\n",
    "    \n",
    "    # Extract the maximal possible reward\n",
    "    r_star = model.best_arm_reward()\n",
    "    \n",
    "    # Computation of the mean reward\n",
    "    reward = np.mean(np.sum(rewards_l, axis=1))\n",
    "    \n",
    "    return T * r_star - reward"
   ]
  },
  {
   "cell_type": "markdown",
   "metadata": {},
   "source": [
    "## 3.7 - Estimation"
   ]
  },
  {
   "cell_type": "code",
   "execution_count": 38,
   "metadata": {
    "ExecuteTime": {
     "end_time": "2018-11-26T12:23:39.827276Z",
     "start_time": "2018-11-26T12:23:39.819885Z"
    }
   },
   "outputs": [],
   "source": [
    "def estimation(model, T, n_MC=1000, strategy=randomPolicy):\n",
    "    \"\"\"Run n_MC simulation of the strategy over the model and save the computed rewards\n",
    "       and theta.\"\"\"\n",
    "\n",
    "    # Initialisation of the array of the rewards and theta\n",
    "    rewards_l = []\n",
    "    theta_l = []\n",
    "    \n",
    "    # Simulate n parties\n",
    "    for i in range(n_MC):\n",
    "        \n",
    "        # Result of the i-th simulation\n",
    "        rew, draws, theta = strategy(model, T)\n",
    "        \n",
    "        # Update the reward\n",
    "        rewards_l.append(rew)\n",
    "        \n",
    "        # Update theta\n",
    "        theta_l.append(list(theta.reshape(-1)))\n",
    "        \n",
    "    # Transform the list as array\n",
    "    rewards_l = np.array(rewards_l)\n",
    "    theta_l = np.array(theta_l)\n",
    "\n",
    "    return [rewards_l, theta_l]"
   ]
  },
  {
   "cell_type": "markdown",
   "metadata": {
    "ExecuteTime": {
     "end_time": "2018-11-25T10:12:46.797240Z",
     "start_time": "2018-11-25T10:12:46.794605Z"
    }
   },
   "source": [
    "## 3.8 - Definition of our model"
   ]
  },
  {
   "cell_type": "code",
   "execution_count": 39,
   "metadata": {
    "ExecuteTime": {
     "end_time": "2018-11-26T12:23:40.465796Z",
     "start_time": "2018-11-26T12:23:40.463226Z"
    }
   },
   "outputs": [],
   "source": [
    "# Choice of a random state\n",
    "random_state = np.random.randint(0, 24532523)"
   ]
  },
  {
   "cell_type": "code",
   "execution_count": 40,
   "metadata": {
    "ExecuteTime": {
     "end_time": "2018-11-26T12:23:40.829633Z",
     "start_time": "2018-11-26T12:23:40.816349Z"
    }
   },
   "outputs": [],
   "source": [
    "# Definition of our model\n",
    "model = ColdStartMovieLensModel(\n",
    "    random_state=random_state,\n",
    "    noise=0.1\n",
    ")"
   ]
  },
  {
   "cell_type": "markdown",
   "metadata": {},
   "source": [
    "## 3.9 - Estimation of the best alpha for the LinUCB"
   ]
  },
  {
   "cell_type": "code",
   "execution_count": 41,
   "metadata": {
    "ExecuteTime": {
     "end_time": "2018-11-26T12:23:41.370943Z",
     "start_time": "2018-11-26T12:23:41.353870Z"
    }
   },
   "outputs": [],
   "source": [
    "def gridSearchAlpha(model, min_alpha=30, max_alpha=75, nb_alpha=4,\n",
    "                    lambda_const=1,\n",
    "                    nb_T=4, max_T=6000, n_MC=20):\n",
    "    \"\"\"Plot the result for the two metrics for the different alpha and lambda.\"\"\"    \n",
    "    \n",
    "    # Parameters of the figure\n",
    "    fig, axs = plt.subplots(nrows=1, ncols=2, figsize=(12,8))\n",
    "    plt.grid(True)\n",
    "    \n",
    "    # Array of the different T\n",
    "    T_l = [3000, 6000] #np.linspace(1, max_T, nb_T, dtype=int)\n",
    "    \n",
    "    # Array of the value for alpha\n",
    "    alpha_l = np.linspace(min_alpha, max_alpha, nb_alpha, dtype=float)\n",
    "    \n",
    "    # Plot the regret curve for the different strategies\n",
    "    for s in range(len(alpha_l)):\n",
    "        \n",
    "        # Extract alpha\n",
    "        alpha = round(alpha_l[s], 2)\n",
    "\n",
    "        # Strategy to test\n",
    "        strategy_alpha = lambda model, t: LinUCB(model, t, alpha=alpha,\n",
    "                                                 lambda_const=lambda_const)\n",
    "\n",
    "        # Compute the regret for each T for the given strategy\n",
    "        regret_l = []\n",
    "        theta_l = []\n",
    "\n",
    "        for t in range(len(T_l)):\n",
    "            rewards_l, thetas_l = estimation(model, T_l[t], n_MC=n_MC,\n",
    "                                             strategy=strategy_alpha)\n",
    "\n",
    "            # Compute the score for the two metrics for this (alpha, T)\n",
    "            regret_l.append(cumulativeRegret(model, T_l[t], rewards_l))\n",
    "            theta_l.append(l2Norm(thetas_l, model))\n",
    "\n",
    "        # Plot\n",
    "        axs[0].scatter(T_l, theta_l, label=\"alpha=\" + str(alpha), marker=\"x\")\n",
    "\n",
    "        # Plot\n",
    "        axs[1].scatter(T_l, regret_l, label=\"alpha=\" + str(alpha), marker=\"x\")\n",
    "\n",
    "    # Legend\n",
    "    axs[0].set_xlabel(\"Rounds\")\n",
    "    axs[0].set_ylabel(\"d(theta, theta_hat)\")\n",
    "    axs[0].legend()\n",
    "\n",
    "    # Legend\n",
    "    axs[1].set_xlabel(\"Rounds\")\n",
    "    axs[1].set_ylabel(\"Cumulative Regret\")\n",
    "    axs[1].legend()\n",
    "    \n",
    "    # Save the plot\n",
    "    plt.savefig(\"./Images/Alpha_Curves.eps\", bbox_inches='tight', pad_inches=0.0)\n",
    "\n",
    "    # Display\n",
    "    plt.show()"
   ]
  },
  {
   "cell_type": "code",
   "execution_count": 42,
   "metadata": {
    "ExecuteTime": {
     "end_time": "2018-11-26T12:50:58.801532Z",
     "start_time": "2018-11-26T12:23:41.636918Z"
    },
    "scrolled": true
   },
   "outputs": [
    {
     "data": {
      "image/png": "[encoded data removed]",
      "text/plain": [
       "<Figure size 864x576 with 2 Axes>"
      ]
     },
     "metadata": {
      "needs_background": "light"
     },
     "output_type": "display_data"
    }
   ],
   "source": [
    "gridSearchAlpha(model)"
   ]
  },
  {
   "cell_type": "markdown",
   "metadata": {},
   "source": [
    "As the computation were really slow, we just computed the scores for T=3000 and T=6000. Here there is not an optimal value of alpha for the both criterion. It seems logic because bigger is alpha, more important is the exploration. So, it is easier to approximate the right theta. However, it causes also a bigger regret. Hence, we choose $\\alpha=45$ as optimal value because it seems as a good trade-off between the two criterion.\n",
    "\n",
    "Here, we just display the result for a given lambda, but it easy to launch the past function for different values of $\\lambda$ and then select the one which minimises the errors. However, the results do not change a lot according to $\\lambda$. So, we choose $\\lambda$ = 1."
   ]
  },
  {
   "cell_type": "markdown",
   "metadata": {},
   "source": [
    "## 3.8 - Estimation of the best epsilon"
   ]
  },
  {
   "cell_type": "code",
   "execution_count": 43,
   "metadata": {
    "ExecuteTime": {
     "end_time": "2018-11-26T12:50:58.825462Z",
     "start_time": "2018-11-26T12:50:58.810931Z"
    }
   },
   "outputs": [],
   "source": [
    "def gridSearchEpsilon(model, min_epsilon=0, max_epsilon=1, nb_epsilon=5, \n",
    "                      lambda_const=1,\n",
    "                      nb_T=5, max_T=6000, n_MC=50):\n",
    "    \"\"\"Plot the result for the two metrics for the different alpha.\"\"\"    \n",
    "    \n",
    "    # Parameters of the figure\n",
    "    fig, axs = plt.subplots(nrows=1, ncols=2, figsize=(16,8))\n",
    "    plt.grid(True)\n",
    "    \n",
    "    # Array of the different T\n",
    "    T_l = np.linspace(1, max_T, nb_T, dtype=int)\n",
    "    \n",
    "    # Array of the value for epsilon\n",
    "    epsilon_l = np.linspace(min_epsilon, max_epsilon, nb_epsilon, dtype=float)\n",
    "    \n",
    "    # Plot the regret curve for the different strategies\n",
    "    for s in tqdm.tqdm(range(len(epsilon_l))):\n",
    "        \n",
    "        # Compute the regret for each T for the given strategy\n",
    "        regret_l = []\n",
    "        theta_l = []\n",
    "        \n",
    "        # Extract alpha\n",
    "        epsilon = round(epsilon_l[s], 2)\n",
    "\n",
    "        # Strategy to test\n",
    "        strategy_epsilon = lambda model, t: epsilonGreedy(model, t, epsilon=epsilon,\n",
    "                                                          lambda_const=lambda_const)\n",
    "\n",
    "        for t in range(len(T_l)):\n",
    "            \n",
    "            rewards_l, thetas_l = estimation(model, T_l[t], n_MC=n_MC,\n",
    "                                             strategy=strategy_epsilon)\n",
    "\n",
    "            # Compute the score for the two metrics for this (alpha, T)\n",
    "            regret_l.append(cumulativeRegret(model, T_l[t], rewards_l))\n",
    "            theta_l.append(l2Norm(thetas_l, model))\n",
    "\n",
    "        # Plot\n",
    "        ax = axs[0]\n",
    "        ax.scatter(T_l, theta_l, label=\"epsilon=\" + str(epsilon), marker=\"x\")\n",
    "\n",
    "        # Plot\n",
    "        ax = axs[1]\n",
    "        ax.scatter(T_l, regret_l, label=\"epsilon=\" + str(epsilon), marker=\"x\")\n",
    "\n",
    "    # Legend\n",
    "    axs[0].set_xlabel(\"Rounds\")\n",
    "    axs[0].set_ylabel(\"d(theta, theta_hat)\")\n",
    "    axs[0].legend()\n",
    "\n",
    "    # Legend\n",
    "    axs[1].set_xlabel(\"Rounds\")\n",
    "    axs[1].set_ylabel(\"Cumulative Regret\")\n",
    "    axs[1].legend()\n",
    "    \n",
    "    # Save the plot\n",
    "    plt.savefig(\"./Images/Epsilon_Curves.eps\", bbox_inches='tight', pad_inches=0.0)\n",
    "\n",
    "    # Display\n",
    "    plt.show()"
   ]
  },
  {
   "cell_type": "code",
   "execution_count": 44,
   "metadata": {
    "ExecuteTime": {
     "end_time": "2018-11-26T13:06:43.180569Z",
     "start_time": "2018-11-26T12:50:58.835786Z"
    }
   },
   "outputs": [
    {
     "name": "stderr",
     "output_type": "stream",
     "text": [
      "\n",
      "\n",
      "  0%|          | 0/5 [00:00<?, ?it/s]\u001b[A\u001b[A\n",
      "\n",
      " 20%|██        | 1/5 [02:52<11:31, 172.81s/it]\u001b[A\u001b[A\n",
      "\n",
      " 40%|████      | 2/5 [05:26<08:21, 167.12s/it]\u001b[A\u001b[A\n",
      "\n",
      " 60%|██████    | 3/5 [08:07<05:30, 165.38s/it]\u001b[A\u001b[A\n",
      "\n",
      " 80%|████████  | 4/5 [10:55<02:45, 165.99s/it]\u001b[A\u001b[A\n",
      "\n",
      "100%|██████████| 5/5 [15:43<00:00, 202.61s/it]\u001b[A\u001b[A\n",
      "\n",
      "\u001b[A\u001b[A"
     ]
    },
    {
     "data": {
      "image/png": "[encoded data removed]",
      "text/plain": [
       "<Figure size 1152x576 with 2 Axes>"
      ]
     },
     "metadata": {
      "needs_background": "light"
     },
     "output_type": "display_data"
    }
   ],
   "source": [
    "gridSearchEpsilon(model, nb_T=5, n_MC=50, lambda_const=1)"
   ]
  },
  {
   "cell_type": "markdown",
   "metadata": {},
   "source": [
    "Thanks to these analysis we can deduce that $\\epsilon$ = 0.25 performs the best. As before, the result doesnot change a lot according to $\\lambda$. So, we are going to choose $\\lambda = 1$."
   ]
  },
  {
   "cell_type": "markdown",
   "metadata": {},
   "source": [
    "## 3.9 - Plot the result for the different algorithms"
   ]
  },
  {
   "cell_type": "markdown",
   "metadata": {},
   "source": [
    "According to the past result we select the best parameters for alpha and epsilon."
   ]
  },
  {
   "cell_type": "code",
   "execution_count": 85,
   "metadata": {
    "ExecuteTime": {
     "end_time": "2018-11-26T13:55:18.983316Z",
     "start_time": "2018-11-26T13:55:18.978073Z"
    }
   },
   "outputs": [],
   "source": [
    "# Definition of the best LinUCB and the best epsilonGreedy strategies\n",
    "best_LinUCB = lambda model, T: LinUCB(model, T, alpha=45,\n",
    "                                      lambda_const=1)\n",
    "best_LinUCB.__name__ = \"LinUCB\"\n",
    "best_epsilon_Greedy = lambda model, T: epsilonGreedy(model, T, epsilon=0.25,\n",
    "                                                     lambda_const=1)\n",
    "best_epsilon_Greedy.__name__ = \"$\\epsilon$-Greedy\"\n",
    "\n",
    "# Definition of the strategies\n",
    "strategies = [best_LinUCB,\n",
    "              best_epsilon_Greedy,\n",
    "              randomPolicy]"
   ]
  },
  {
   "cell_type": "code",
   "execution_count": 50,
   "metadata": {
    "ExecuteTime": {
     "end_time": "2018-11-26T13:17:55.631557Z",
     "start_time": "2018-11-26T13:17:55.621760Z"
    }
   },
   "outputs": [],
   "source": [
    "def plotMetricsCurves(model, strategies, nb_T=5, max_T=6000, n_MC=20):\n",
    "    \"\"\"Plot the result for the two metrics for the different alpha.\"\"\"    \n",
    "    \n",
    "    # Parameters of the figure\n",
    "    fig, axs = plt.subplots(nrows=1, ncols=2, figsize=(12,8))\n",
    "    plt.grid(True)\n",
    "    \n",
    "    # Array of the different T\n",
    "    T_l = np.linspace(1, max_T, nb_T, dtype=int)\n",
    "    \n",
    "    # Plot the regret curve for the different strategies\n",
    "    for s in tqdm.tqdm(range(len(strategies))):\n",
    "        \n",
    "        # Compute the regret for each T for the given strategy\n",
    "        regret_l = []\n",
    "        theta_l = []\n",
    "        \n",
    "        for t in range(len(T_l)):\n",
    "            rewards_l, thetas_l = estimation(model, T_l[t], n_MC=n_MC, strategy=strategies[s])\n",
    "            \n",
    "            # Compute the score for the two metrics for this (alpha, T)\n",
    "            regret_l.append(cumulativeRegret(model, T_l[t], rewards_l))\n",
    "            theta_l.append(l2Norm(thetas_l, model))\n",
    "            \n",
    "        # Plot\n",
    "        axs[0].scatter(T_l, theta_l, label=strategies[s].__name__, marker=\"x\")\n",
    "\n",
    "        # Plot\n",
    "        axs[1].scatter(T_l, regret_l, label=strategies[s].__name__, marker=\"x\")\n",
    "        \n",
    "    # Legend\n",
    "    axs[0].set_xlabel(\"Rounds\")\n",
    "    axs[0].set_ylabel(\"d(theta, theta_hat)\")\n",
    "    axs[0].legend()\n",
    "\n",
    "    # Legend\n",
    "    axs[1].set_xlabel(\"Rounds\")\n",
    "    axs[1].set_ylabel(\"Cumulative Regret\")\n",
    "    axs[1].legend()\n",
    "    \n",
    "    # Save the plot\n",
    "    plt.savefig(\"./Images/Strategies_Curves.eps\", bbox_inches='tight', pad_inches=0.0)\n",
    "\n",
    "    # Display\n",
    "    plt.show()"
   ]
  },
  {
   "cell_type": "code",
   "execution_count": 86,
   "metadata": {
    "ExecuteTime": {
     "end_time": "2018-11-26T14:08:43.126626Z",
     "start_time": "2018-11-26T13:55:20.902518Z"
    }
   },
   "outputs": [
    {
     "name": "stderr",
     "output_type": "stream",
     "text": [
      "\n",
      "\n",
      "\n",
      "\n",
      "\n",
      "\n",
      "\n",
      "\n",
      "  0%|          | 0/3 [00:00<?, ?it/s]\u001b[A\u001b[A\u001b[A\u001b[A\u001b[A\u001b[A\u001b[A\u001b[A\n",
      "\n",
      "\n",
      "\n",
      "\n",
      "\n",
      "\n",
      "\n",
      " 33%|███▎      | 1/3 [11:23<22:46, 683.19s/it]\u001b[A\u001b[A\u001b[A\u001b[A\u001b[A\u001b[A\u001b[A\u001b[A\n",
      "\n",
      "\n",
      "\n",
      "\n",
      "\n",
      "\n",
      "\n",
      " 67%|██████▋   | 2/3 [12:24<08:16, 496.52s/it]\u001b[A\u001b[A\u001b[A\u001b[A\u001b[A\u001b[A\u001b[A\u001b[A\n",
      "\n",
      "\n",
      "\n",
      "\n",
      "\n",
      "\n",
      "\n",
      "100%|██████████| 3/3 [13:21<00:00, 364.67s/it]\u001b[A\u001b[A\u001b[A\u001b[A\u001b[A\u001b[A\u001b[A\u001b[A\n",
      "\n",
      "\n",
      "\n",
      "\n",
      "\n",
      "\n",
      "\n",
      "\u001b[A\u001b[A\u001b[A\u001b[A\u001b[A\u001b[A\u001b[A\u001b[A"
     ]
    },
    {
     "data": {
      "image/png": "[encoded data removed]",
      "text/plain": [
       "<Figure size 864x576 with 2 Axes>"
      ]
     },
     "metadata": {
      "needs_background": "light"
     },
     "output_type": "display_data"
    }
   ],
   "source": [
    "plotMetricsCurves(model, strategies)"
   ]
  },
  {
   "cell_type": "markdown",
   "metadata": {},
   "source": [
    "\\begin{itemize}\n",
    "    \\item First, we can observe that the randomPolicy performs the best for approximating the right $\\theta$. It is not really surprising because it is the policy which explores the best the space of actions. For the same reason, as the $\\epsilon$-greedy policy explores the space of actions with probability $\\epsilon$, we have good result for the approximation of $\\theta$.\n",
    "    \\item Second, we observe that the LinUCB performs the best for the regret. It seems logic because it is the one which is the best for the exploitation. Also, we can observe that the $\\epsilon$-greedy policy continues to increase linearly. It is likely that it is related to the fact that we choose a random action with probability $\\epsilon$. \n",
    "\\end{itemize}"
   ]
  },
  {
   "cell_type": "code",
   "execution_count": null,
   "metadata": {},
   "outputs": [],
   "source": []
  }
 ],
 "metadata": {
  "author": "r",
  "kernelspec": {
   "display_name": "Python 3",
   "language": "python",
   "name": "python3"
  },
  "language_info": {
   "codemirror_mode": {
    "name": "ipython",
    "version": 3
   },
   "file_extension": ".py",
   "mimetype": "text/x-python",
   "name": "python",
   "nbconvert_exporter": "python",
   "pygments_lexer": "ipython3",
   "version": "3.6.3"
  },
  "latex_envs": {
   "LaTeX_envs_menu_present": true,
   "autoclose": false,
   "autocomplete": true,
   "bibliofile": "biblio.bib",
   "cite_by": "apalike",
   "current_citInitial": 1,
   "eqLabelWithNumbers": true,
   "eqNumInitial": 1,
   "hotkeys": {
    "equation": "Ctrl-E",
    "itemize": "Ctrl-I"
   },
   "labels_anchors": false,
   "latex_user_defs": false,
   "report_style_numbering": false,
   "user_envs_cfg": false
  },
  "varInspector": {
   "cols": {
    "lenName": 16,
    "lenType": 16,
    "lenVar": 40
   },
   "kernels_config": {
    "python": {
     "delete_cmd_postfix": "",
     "delete_cmd_prefix": "del ",
     "library": "var_list.py",
     "varRefreshCmd": "print(var_dic_list())"
    },
    "r": {
     "delete_cmd_postfix": ") ",
     "delete_cmd_prefix": "rm(",
     "library": "var_list.r",
     "varRefreshCmd": "cat(var_dic_list()) "
    }
   },
   "types_to_exclude": [
    "module",
    "function",
    "builtin_function_or_method",
    "instance",
    "_Feature"
   ],
   "window_display": false
  }
 },
 "nbformat": 4,
 "nbformat_minor": 2
}
