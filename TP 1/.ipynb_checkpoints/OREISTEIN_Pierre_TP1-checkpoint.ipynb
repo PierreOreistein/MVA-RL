{
 "cells": [
  {
   "cell_type": "markdown",
   "metadata": {},
   "source": [
    "# 0 - Information"
   ]
  },
  {
   "cell_type": "code",
   "execution_count": 76,
   "metadata": {
    "ExecuteTime": {
     "end_time": "2018-11-11T18:09:33.094583Z",
     "start_time": "2018-11-11T18:09:33.090808Z"
    }
   },
   "outputs": [],
   "source": [
    "author= \"Pierre OREISTEIN\"\n",
    "date= \"11/11/2018\""
   ]
  },
  {
   "cell_type": "markdown",
   "metadata": {},
   "source": [
    "# 1 - Dynamic Programming"
   ]
  },
  {
   "cell_type": "markdown",
   "metadata": {},
   "source": [
    "## 1.1 - Packages"
   ]
  },
  {
   "cell_type": "code",
   "execution_count": 28,
   "metadata": {
    "ExecuteTime": {
     "end_time": "2018-11-11T17:39:20.840337Z",
     "start_time": "2018-11-11T17:39:20.834720Z"
    }
   },
   "outputs": [],
   "source": [
    "%matplotlib inline\n",
    "\n",
    "# Maths packages\n",
    "import numpy\n",
    "\n",
    "# Graphic packages\n",
    "import matplotlib.pyplot as plt\n",
    "import seaborn as sns\n",
    "sns.set()"
   ]
  },
  {
   "cell_type": "markdown",
   "metadata": {
    "ExecuteTime": {
     "end_time": "2018-10-30T08:14:17.814132Z",
     "start_time": "2018-10-30T08:14:17.811783Z"
    }
   },
   "source": [
    "## 1.2 - Question 1:"
   ]
  },
  {
   "cell_type": "markdown",
   "metadata": {},
   "source": [
    "First, it exists paths between each state with high probability (>= 0.42) and $\\gamma$ is quite high (0.95). So, in this case, the optimal policy is going to look for the most important reward.\n",
    "\n",
    "\n",
    "If we look on the possible rewards, there are only three couple (state, action) with non null reward:\n",
    "\\begin{itemize}\n",
    " \\item $(s_0, a_2)$: 5/100\n",
    " \\item $(s_2, a_2)$: 9/10\n",
    " \\item $(s_2, a_1)$: 1\n",
    "\\end{itemize}\n",
    "\n",
    "The first couple has a too low reward for being a possible solution. However, the last cannot be also the solution. In fact, if the agent plays $a_1$ in $s_2$, it has only 40% of chances to go back to the state $s_2$ and 60% to go to the state $s_1$ which will provoke a turn without reward. At the opposite, if it plays $a_2$, it is sure to go back in state $s_2$ with 100% chances. Hence, it seems that the agent will try to go as fast as possible to the state $s_2$ and then play always $a_1$.\n",
    "\n",
    "\n",
    "To conclude, we can guess that the optimal policy will be $\\pi = [1, 1, 2]$"
   ]
  },
  {
   "cell_type": "markdown",
   "metadata": {
    "ExecuteTime": {
     "end_time": "2018-10-30T08:14:43.706651Z",
     "start_time": "2018-10-30T08:14:43.703561Z"
    }
   },
   "source": [
    "### 1.2.1 - Defintion of the transition matrices"
   ]
  },
  {
   "cell_type": "code",
   "execution_count": 31,
   "metadata": {
    "ExecuteTime": {
     "end_time": "2018-11-11T17:54:23.707776Z",
     "start_time": "2018-11-11T17:54:23.703380Z"
    }
   },
   "outputs": [],
   "source": [
    "# Transition matrix for action a0\n",
    "P_0 = np.array([[0.55, 0.45,   0],\n",
    "                [   1,    0,   0],\n",
    "                [   0,    1,   0]])\n",
    "\n",
    "# Transition matrix for action a1\n",
    "P_1 = np.array([[ 0.3,  0.7,   0],\n",
    "                [   0,  0.4, 0.6],\n",
    "                [   0,  0.6, 0.4]])\n",
    "\n",
    "# Transition matrix for action a2\n",
    "P_2 = np.array([[   1,   0,   0],\n",
    "                [   0,   1,   0],\n",
    "                [   0,   0,   1]])\n",
    "\n",
    "# Total matrix of transition\n",
    "P = np.array([P_0, P_1, P_2])"
   ]
  },
  {
   "cell_type": "markdown",
   "metadata": {},
   "source": [
    "### 1.2.2 - Definition of the rewards"
   ]
  },
  {
   "cell_type": "code",
   "execution_count": 32,
   "metadata": {
    "ExecuteTime": {
     "end_time": "2018-11-11T17:54:24.126253Z",
     "start_time": "2018-11-11T17:54:24.121514Z"
    }
   },
   "outputs": [],
   "source": [
    "# Matrix of reward\n",
    "r = np.array([[0, 0, 5/100],\n",
    "              [0, 0,     0],\n",
    "              [0, 1,  9/10]])"
   ]
  },
  {
   "cell_type": "markdown",
   "metadata": {},
   "source": [
    "### 1.2.3 - Definition of the differente states"
   ]
  },
  {
   "cell_type": "code",
   "execution_count": 33,
   "metadata": {
    "ExecuteTime": {
     "end_time": "2018-11-11T17:54:25.053334Z",
     "start_time": "2018-11-11T17:54:25.049591Z"
    }
   },
   "outputs": [],
   "source": [
    "# Array of states\n",
    "X = np.array([0, 1, 2])"
   ]
  },
  {
   "cell_type": "markdown",
   "metadata": {},
   "source": [
    "### 1.2.4 - Definition of the state of Actions"
   ]
  },
  {
   "cell_type": "code",
   "execution_count": 34,
   "metadata": {
    "ExecuteTime": {
     "end_time": "2018-11-11T17:54:25.646570Z",
     "start_time": "2018-11-11T17:54:25.642974Z"
    }
   },
   "outputs": [],
   "source": [
    "# Array of actions\n",
    "A = np.array([0, 1, 2])"
   ]
  },
  {
   "cell_type": "markdown",
   "metadata": {},
   "source": [
    "### 1.2.5 - Definition of the actualisation rate"
   ]
  },
  {
   "cell_type": "code",
   "execution_count": 35,
   "metadata": {
    "ExecuteTime": {
     "end_time": "2018-11-11T17:54:26.278224Z",
     "start_time": "2018-11-11T17:54:26.275512Z"
    }
   },
   "outputs": [],
   "source": [
    "# Actualisation rate gamma\n",
    "gamma = 0.95"
   ]
  },
  {
   "cell_type": "markdown",
   "metadata": {
    "ExecuteTime": {
     "end_time": "2018-10-30T09:15:46.604568Z",
     "start_time": "2018-10-30T09:15:46.601166Z"
    }
   },
   "source": [
    "## 1.3 - Question 2: Computation of an approximation of the optimal policy"
   ]
  },
  {
   "cell_type": "markdown",
   "metadata": {
    "ExecuteTime": {
     "end_time": "2018-11-11T17:56:25.637415Z",
     "start_time": "2018-11-11T17:56:25.632262Z"
    }
   },
   "source": [
    "### 1.3.1: Value Iteration Algorithm"
   ]
  },
  {
   "cell_type": "code",
   "execution_count": 36,
   "metadata": {
    "ExecuteTime": {
     "end_time": "2018-11-11T17:55:29.441397Z",
     "start_time": "2018-11-11T17:55:29.434493Z"
    }
   },
   "outputs": [],
   "source": [
    "def computeEpsilon(criterion, gamma):\n",
    "    \"\"\"Compute epsilon associated to the criterion and gamma.\"\"\"\n",
    "    \n",
    "    # Computation of epsilon\n",
    "    epsilon = (1 - gamma) / (2 * gamma) * criterion\n",
    "    \n",
    "    return epsilon"
   ]
  },
  {
   "cell_type": "code",
   "execution_count": 37,
   "metadata": {
    "ExecuteTime": {
     "end_time": "2018-11-11T17:55:34.263257Z",
     "start_time": "2018-11-11T17:55:34.257972Z"
    }
   },
   "outputs": [],
   "source": [
    "def optimalBellmanOperator1State(V, x, gamma):\n",
    "    \"\"\"Apply the optimal Bellman operator to V(x).\"\"\"\n",
    "    \n",
    "    # Initialisation of the max\n",
    "    maxi = -float('Inf')\n",
    "    \n",
    "    # Loop over each possible actions for finding the max\n",
    "    for a in A:\n",
    "        \n",
    "        # Extract the probabilities\n",
    "        p = P[a][x, :].reshape((-1,1))\n",
    "        \n",
    "        # Compute the value function for the actions a\n",
    "        value = r[x, a] + gamma * np.dot(p.T, V)[0,0]\n",
    "        \n",
    "        # Update maxi\n",
    "        if value > maxi:\n",
    "            maxi = value\n",
    "            \n",
    "    # Return the new value\n",
    "    return maxi"
   ]
  },
  {
   "cell_type": "code",
   "execution_count": 38,
   "metadata": {
    "ExecuteTime": {
     "end_time": "2018-11-11T17:55:36.635228Z",
     "start_time": "2018-11-11T17:55:36.629555Z"
    }
   },
   "outputs": [],
   "source": [
    "def optimalBellmanOperator(V, gamma):\n",
    "    \"\"\"Apply the Bellman operator to V.\"\"\"\n",
    "    \n",
    "    # Parameters\n",
    "    n, d = np.shape(V)\n",
    "    \n",
    "    # Initialisation of the matrix of result\n",
    "    V_result = np.zeros((n, 1))\n",
    "    \n",
    "    # Loop over each state\n",
    "    for x in X:\n",
    "        \n",
    "        # Apply the optimal Bellman operator to V(x)\n",
    "        V_result[x] = optimalBellmanOperator1State(V, x, gamma)\n",
    "        \n",
    "    # Return the result\n",
    "    return V_result"
   ]
  },
  {
   "cell_type": "code",
   "execution_count": 39,
   "metadata": {
    "ExecuteTime": {
     "end_time": "2018-11-11T17:55:39.256488Z",
     "start_time": "2018-11-11T17:55:39.252705Z"
    }
   },
   "outputs": [],
   "source": [
    "def infNorm(V):\n",
    "    \"\"\"Compute the inf norm on V.\"\"\"\n",
    "    \n",
    "    return np.max(np.abs(V))"
   ]
  },
  {
   "cell_type": "code",
   "execution_count": 40,
   "metadata": {
    "ExecuteTime": {
     "end_time": "2018-11-11T17:55:48.711018Z",
     "start_time": "2018-11-11T17:55:48.701127Z"
    }
   },
   "outputs": [],
   "source": [
    "def computeGreedyPolicy(V_k, gamma):\n",
    "    \"\"\"Computation of the optimal policy.\"\"\"\n",
    "    \n",
    "    # Parameters\n",
    "    n, d = np.shape((V_k))\n",
    "    \n",
    "    # Initialisation of the greedy policy\n",
    "    pi = np.zeros((n, 1), dtype=int)\n",
    "    \n",
    "    # Loop over each state\n",
    "    for x in X:\n",
    "        \n",
    "        maximum = -float('Inf')\n",
    "        maximising_action = 0\n",
    "        \n",
    "        # Loop over each action\n",
    "        for a in A:\n",
    "            \n",
    "            # Extract the probabilities\n",
    "            p = P[a][x, :].reshape((-1,1))\n",
    "\n",
    "            # Compute the value function for the actions a\n",
    "            value = r[x, a] + gamma * np.dot(p.T, V_k)[0,0]\n",
    "\n",
    "            # Update maximum and maximising_action\n",
    "            if value > maximum:\n",
    "                maximum = value\n",
    "                maximising_action = a\n",
    "        \n",
    "        # Instantiate pi\n",
    "        pi[x] = maximising_action\n",
    "        \n",
    "    # Return pi\n",
    "    return pi            "
   ]
  },
  {
   "cell_type": "code",
   "execution_count": 57,
   "metadata": {
    "ExecuteTime": {
     "end_time": "2018-11-11T17:59:27.081790Z",
     "start_time": "2018-11-11T17:59:27.076043Z"
    }
   },
   "outputs": [],
   "source": [
    "def valueIteration(gamma, criterion=0.01):\n",
    "    \"\"\"This function runs a value iteration on the MDP defines before.\"\"\"\n",
    "\n",
    "    # Initilazation of the value functions\n",
    "    V_k = np.zeros((3, 1))\n",
    "    V_k_1 = V_k - 1\n",
    "    \n",
    "    # Saving array of the gap between V_k and V_k_1 for the final plot\n",
    "    gaps = []\n",
    "    \n",
    "    # Computation of the criterion of the while loop\n",
    "    epsilon = computeEpsilon(criterion, gamma)\n",
    "    \n",
    "    # Iteration\n",
    "    while infNorm(V_k - V_k_1) > epsilon:\n",
    "        \n",
    "        # Update V_k_1\n",
    "        V_k_1 = V_k\n",
    "        \n",
    "        # Apply the optimal Bellman operator\n",
    "        V_k = optimalBellmanOperator(V_k, gamma)\n",
    "        \n",
    "        # Append V_k to gaps\n",
    "        gaps.append(infNorm(V_k - V_k_1))\n",
    "        \n",
    "    # Compute the greedy policy pi_k\n",
    "    pi_k = computeGreedyPolicy(V_k, gamma)\n",
    "        \n",
    "    # Compute the greedy policy\n",
    "    print(\"The optimal policy is: \")\n",
    "    for x in X:\n",
    "        print(\"In state s_{} take the action: a_{}\".format(x, int(pi_k[x][0])))\n",
    "        \n",
    "    # Return the greedy policy\n",
    "    return V_k, pi_k, gaps"
   ]
  },
  {
   "cell_type": "code",
   "execution_count": 58,
   "metadata": {
    "ExecuteTime": {
     "end_time": "2018-11-11T17:59:27.366982Z",
     "start_time": "2018-11-11T17:59:27.344934Z"
    }
   },
   "outputs": [
    {
     "name": "stdout",
     "output_type": "stream",
     "text": [
      "The optimal policy is: \n",
      "In state s_0 take the action: a_1\n",
      "In state s_1 take the action: a_1\n",
      "In state s_2 take the action: a_2\n"
     ]
    }
   ],
   "source": [
    "# Compute the value iterations for the policy and the value functions\n",
    "V_k, pi_k, gaps = valueIteration(gamma);"
   ]
  },
  {
   "cell_type": "markdown",
   "metadata": {},
   "source": [
    "### 1.3.2 - Plot of the gap over the iteration"
   ]
  },
  {
   "cell_type": "code",
   "execution_count": 44,
   "metadata": {
    "ExecuteTime": {
     "end_time": "2018-11-11T17:56:35.740663Z",
     "start_time": "2018-11-11T17:56:35.736115Z"
    }
   },
   "outputs": [],
   "source": [
    "def plotGaps(gaps):\n",
    "    \"\"\"Plot the gap over the iteration of the algorithm of value functions.\"\"\"    \n",
    "    \n",
    "    # Array of the iteration\n",
    "    iterations = [i for i in range(1, len(gaps) + 1)]\n",
    "    \n",
    "    # Parameters of the figure\n",
    "    plt.figure(figsize=(8,8))\n",
    "    plt.grid(True)\n",
    "    \n",
    "    # Plot\n",
    "    plt.scatter(iterations, gaps, label=\"||V_k - V_k-1||\", marker=\"x\")\n",
    "    \n",
    "    # Legend\n",
    "    plt.xlabel(\"Iterations\")\n",
    "    plt.ylabel(\"||V_k - V_k-1||\")\n",
    "    \n",
    "    # Save the plot\n",
    "    plt.savefig(\"./Images/Gaps\", bbox_inches='tight', pad_inches=0.0)\n",
    "\n",
    "    # Display\n",
    "    plt.show()"
   ]
  },
  {
   "cell_type": "code",
   "execution_count": 45,
   "metadata": {
    "ExecuteTime": {
     "end_time": "2018-11-11T17:56:37.007283Z",
     "start_time": "2018-11-11T17:56:36.618693Z"
    }
   },
   "outputs": [
    {
     "data": {
      "image/png": "[encoded data removed]",
      "text/plain": [
       "<Figure size 576x576 with 1 Axes>"
      ]
     },
     "metadata": {},
     "output_type": "display_data"
    }
   ],
   "source": [
    "plotGaps(gaps)"
   ]
  },
  {
   "cell_type": "markdown",
   "metadata": {},
   "source": [
    "### 1.3.3 - Policy evaluation"
   ]
  },
  {
   "cell_type": "markdown",
   "metadata": {},
   "source": [
    "It exists different way for computing the evaluation of our greedy policy. However, here the MDP is small in dimension and size, so we are going to proceed to a direct computation."
   ]
  },
  {
   "cell_type": "code",
   "execution_count": 46,
   "metadata": {
    "ExecuteTime": {
     "end_time": "2018-11-11T17:57:13.151322Z",
     "start_time": "2018-11-11T17:57:13.146697Z"
    }
   },
   "outputs": [],
   "source": [
    "def probabilitiesPi(pi):\n",
    "    \"\"\"Compute the corresponding transition matrix according to the policy pi.\"\"\"\n",
    "    \n",
    "    # Create P_pi, the probability matrix according to the policy pi\n",
    "    P_pi = []\n",
    "    \n",
    "    # Loop over each state\n",
    "    for x in X:\n",
    "        \n",
    "        # Action taken according to the policy\n",
    "        a_pi = pi[x, 0]\n",
    "\n",
    "        # Probabilities for that action and state\n",
    "        p_a_x = P[a_pi][x, :]\n",
    "        \n",
    "        # Update P_pi\n",
    "        P_pi.append(p_a_x)\n",
    "        \n",
    "    # Convert P_pi as an array\n",
    "    P_pi = np.array((P_pi))\n",
    "    \n",
    "    return P_pi"
   ]
  },
  {
   "cell_type": "code",
   "execution_count": 47,
   "metadata": {
    "ExecuteTime": {
     "end_time": "2018-11-11T17:57:16.064988Z",
     "start_time": "2018-11-11T17:57:16.059971Z"
    }
   },
   "outputs": [],
   "source": [
    "def rewardsPi(pi):\n",
    "    \"\"\"Compute the corresponding rewards vector according to the policy pi.\"\"\"\n",
    "    \n",
    "    # Create P_pi, the probability matrix according to the policy pi\n",
    "    R_pi = []\n",
    "    \n",
    "    # Loop over each state\n",
    "    for x in X:\n",
    "        \n",
    "        # Action taken according to the policy\n",
    "        a_pi = pi[x, 0]\n",
    "        \n",
    "        # Reward for that action and state\n",
    "        r_a_x = r[x, a_pi]\n",
    "        \n",
    "        # Update P_pi\n",
    "        R_pi.append(r_a_x)\n",
    "        \n",
    "    # Convert R_pi as an array\n",
    "    R_pi = np.array((R_pi)).reshape((-1,1))\n",
    "    \n",
    "    return R_pi"
   ]
  },
  {
   "cell_type": "code",
   "execution_count": 48,
   "metadata": {
    "ExecuteTime": {
     "end_time": "2018-11-11T17:57:23.701797Z",
     "start_time": "2018-11-11T17:57:23.695219Z"
    }
   },
   "outputs": [],
   "source": [
    "def policyEvaluation(pi, gamma):\n",
    "    \"\"\"Compute the evaluation of the policy pi by a direct computation.\"\"\"\n",
    "    \n",
    "    # Compute the corresponding transition matrix according to pi\n",
    "    P_pi = probabilitiesPi(pi)\n",
    "    \n",
    "    # Compute the corresponding rewards vector according to pi\n",
    "    R_pi = rewardsPi(pi)\n",
    "    \n",
    "    # Shape of the matrices\n",
    "    n, d = np.shape(P_pi)\n",
    "    \n",
    "    # Evaluation of the policy pi\n",
    "    I = np.eye(n)\n",
    "    V_pi = np.dot(np.linalg.inv(I - gamma * P_pi), R_pi)\n",
    "    \n",
    "    return V_pi"
   ]
  },
  {
   "cell_type": "code",
   "execution_count": 49,
   "metadata": {
    "ExecuteTime": {
     "end_time": "2018-11-11T17:57:26.058700Z",
     "start_time": "2018-11-11T17:57:26.053270Z"
    }
   },
   "outputs": [
    {
     "data": {
      "text/plain": [
       "array([[15.39115723],\n",
       "       [16.5483871 ],\n",
       "       [18.        ]])"
      ]
     },
     "execution_count": 49,
     "metadata": {},
     "output_type": "execute_result"
    }
   ],
   "source": [
    "# Computation of the policy evaluation\n",
    "V_star = policyEvaluation(pi_k, gamma)\n",
    "\n",
    "# Display it\n",
    "V_star"
   ]
  },
  {
   "cell_type": "code",
   "execution_count": 50,
   "metadata": {
    "ExecuteTime": {
     "end_time": "2018-11-11T17:57:35.210957Z",
     "start_time": "2018-11-11T17:57:35.205150Z"
    }
   },
   "outputs": [
    {
     "data": {
      "text/plain": [
       "0.004880925314047602"
      ]
     },
     "execution_count": 50,
     "metadata": {},
     "output_type": "execute_result"
    }
   ],
   "source": [
    "# Display the difference with the one computed thanks to the Value Iterations Algorithm\n",
    "infNorm(V_k - V_star)"
   ]
  },
  {
   "cell_type": "markdown",
   "metadata": {},
   "source": [
    "The criterion of 0.01 is well respected"
   ]
  },
  {
   "cell_type": "markdown",
   "metadata": {},
   "source": [
    "## 1.4 - Question 3: Policy Iterations"
   ]
  },
  {
   "cell_type": "markdown",
   "metadata": {},
   "source": [
    "### 1.4.1 - Definition of pi_0"
   ]
  },
  {
   "cell_type": "code",
   "execution_count": 78,
   "metadata": {
    "ExecuteTime": {
     "end_time": "2018-11-11T18:17:12.890207Z",
     "start_time": "2018-11-11T18:17:12.887326Z"
    }
   },
   "outputs": [],
   "source": [
    "# Definition of pi_0\n",
    "pi_0 = np.array([[1],\n",
    "                 [1],\n",
    "                 [2]])"
   ]
  },
  {
   "cell_type": "markdown",
   "metadata": {},
   "source": [
    "### 1.4.2 - Policy Iterations algorithm"
   ]
  },
  {
   "cell_type": "code",
   "execution_count": 79,
   "metadata": {
    "ExecuteTime": {
     "end_time": "2018-11-11T18:17:17.406012Z",
     "start_time": "2018-11-11T18:17:17.401010Z"
    }
   },
   "outputs": [],
   "source": [
    "def policyIterations(pi_0, gamma):\n",
    "    \"\"\"Executes the policy iterations on the MDP defined before.\"\"\"\n",
    "    \n",
    "    # Initialisation of the policy\n",
    "    pi_k = pi_0\n",
    "    \n",
    "    # First policy evaluation\n",
    "    V_pi_k = policyEvaluation(pi_k, gamma)\n",
    "    V_pi_k_1 = V_pi_k - 1\n",
    "    \n",
    "    # Counter of iterations\n",
    "    nb_iter = 1\n",
    "    \n",
    "    # Loop until convergence\n",
    "    while infNorm(V_pi_k - V_pi_k_1) != 0:\n",
    "        \n",
    "        # Policy improvement\n",
    "        pi_k = computeGreedyPolicy(V_pi_k, gamma)\n",
    "            \n",
    "        # Update V_pi_k_1\n",
    "        V_pi_k_1 = V_pi_k\n",
    "        \n",
    "        # Policy Evaluation\n",
    "        V_pi_k = policyEvaluation(pi_k, gamma)\n",
    "        \n",
    "        # Increase the counter of iterations\n",
    "        nb_iter += 1\n",
    "        \n",
    "    return V_pi_k, pi_k, nb_iter    "
   ]
  },
  {
   "cell_type": "code",
   "execution_count": 87,
   "metadata": {
    "ExecuteTime": {
     "end_time": "2018-11-11T18:17:30.971224Z",
     "start_time": "2018-11-11T18:17:30.966741Z"
    }
   },
   "outputs": [
    {
     "name": "stdout",
     "output_type": "stream",
     "text": [
      "The optimal value functions is: \n",
      " [[15.39115723]\n",
      " [16.5483871 ]\n",
      " [18.        ]]\n",
      "The optimal policy is: \n",
      " [[1]\n",
      " [1]\n",
      " [2]]\n",
      "The number of iterations is:  2\n",
      "Difference with the optimal value functions V*:  0.0\n"
     ]
    }
   ],
   "source": [
    "# Definition of a random pi_0\n",
    "# pi_0 = np.random.randint(0,3, 3).reshape((-1,1))\n",
    "\n",
    "# Compute the policy iterations\n",
    "V_pi_k, pi_k_PI, nb_iter = policyIterations(pi_0, gamma)\n",
    "\n",
    "# Display the different results\n",
    "print(\"The optimal value functions is: \\n\", V_pi_k)\n",
    "print(\"The optimal policy is: \\n\", pi_k_PI)\n",
    "print(\"The number of iterations is: \", nb_iter)\n",
    "\n",
    "# Difference between the optimal value function and the one computed\n",
    "print(\"Difference with the optimal value functions V*: \", infNorm(V_pi_k - V_star))"
   ]
  },
  {
   "cell_type": "markdown",
   "metadata": {},
   "source": [
    "Here, about the speed of convergence per iteration, the algorithm of policy Iterations (PI) is much faster than the Value Functions algorithm (VF). In fact, it needs only 2 iterations to find the exact optimal policy and value functions. At the opposite, the VF algorithm requires 160 iterations to converge towards an approximation of the optimal policy and value functions with an error of 0.01.\n",
    "\n",
    "However, the iterations of VF algorithm are much faster than the PI algorithm ones. Moreover, here the MPD has a very small dimension and size. In other cases, the policy evaluation step can be very costly and slow. In particurlar, if the dimensions are too important, MC simultaions or Iterative policy evaluation are needed which leads also to a very costly and slow algorithm.\n",
    "\n",
    "Finally, we also choose the optimal policy as initialisation for the Pi algorithm which helps to converge faster. However, in general, we initialise with random policy which leads to a slower algorithm."
   ]
  },
  {
   "cell_type": "markdown",
   "metadata": {},
   "source": [
    "# 2 - A review of Rl Agent/Environment Interaction"
   ]
  },
  {
   "cell_type": "markdown",
   "metadata": {},
   "source": [
    "## 2.1 - Packages"
   ]
  },
  {
   "cell_type": "code",
   "execution_count": 94,
   "metadata": {
    "ExecuteTime": {
     "end_time": "2018-11-11T18:23:22.048989Z",
     "start_time": "2018-11-11T18:23:22.043576Z"
    }
   },
   "outputs": [],
   "source": [
    "from gridworld import GridWorld1\n",
    "import gridrender as gui\n",
    "import time\n",
    "\n",
    "env = GridWorld1"
   ]
  },
  {
   "cell_type": "markdown",
   "metadata": {},
   "source": [
    "## 2.2 - Question 4"
   ]
  },
  {
   "cell_type": "markdown",
   "metadata": {},
   "source": [
    "### 2.2.1 - Definition of the deterministic policy"
   ]
  },
  {
   "cell_type": "code",
   "execution_count": 120,
   "metadata": {
    "ExecuteTime": {
     "end_time": "2018-11-11T18:35:56.337996Z",
     "start_time": "2018-11-11T18:35:56.331598Z"
    }
   },
   "outputs": [],
   "source": [
    "def deterministicPolicy():\n",
    "    \"\"\"Compute the deterministic policy specified.\"\"\"\n",
    "    \n",
    "    pol = []\n",
    "    for i, actions in enumerate(env.state_actions):\n",
    "\n",
    "        # Explore all the actions\n",
    "        nb_actions = len(actions)\n",
    "        i = 0\n",
    "        while i < nb_actions:\n",
    "            if 'right' == env.action_names[actions[i]]:\n",
    "                pol.append(actions[i])\n",
    "                i = nb_actions + 1\n",
    "            i += 1\n",
    "        if i == nb_actions:\n",
    "            pol.append(3)  # Corresponding to action \"up\"\n",
    "            \n",
    "    return pol"
   ]
  },
  {
   "cell_type": "code",
   "execution_count": 121,
   "metadata": {
    "ExecuteTime": {
     "end_time": "2018-11-11T18:35:58.891377Z",
     "start_time": "2018-11-11T18:35:57.084188Z"
    }
   },
   "outputs": [],
   "source": [
    "# Compute the deterministic policy\n",
    "pol = deterministicPolicy()\n",
    "\n",
    "# Display the policy\n",
    "gui.render_policy(env, pol)"
   ]
  },
  {
   "cell_type": "markdown",
   "metadata": {
    "ExecuteTime": {
     "end_time": "2018-11-11T18:25:06.246561Z",
     "start_time": "2018-11-11T18:25:06.243762Z"
    }
   },
   "source": [
    "### 2.2.2 - MC Simulations"
   ]
  },
  {
   "cell_type": "code",
   "execution_count": 122,
   "metadata": {
    "ExecuteTime": {
     "end_time": "2018-11-11T18:36:00.927754Z",
     "start_time": "2018-11-11T18:36:00.923904Z"
    }
   },
   "outputs": [],
   "source": [
    "# Here the v-function and q-function to be used for question 4\n",
    "v_q4 = [0.87691855, 0.92820033, 0.98817903, 0.00000000, 0.67106071, -0.99447514, 0.00000000, -0.82847001, -0.87691855,\n",
    "        -0.93358351, -0.99447514]"
   ]
  },
  {
   "cell_type": "code",
   "execution_count": 123,
   "metadata": {
    "ExecuteTime": {
     "end_time": "2018-11-11T18:36:01.415522Z",
     "start_time": "2018-11-11T18:36:01.407153Z"
    }
   },
   "outputs": [],
   "source": [
    "def estimatorMCValueFunctions(pi, n=1000, gamma=0.95, delta=0.001):\n",
    "    \"\"\"Estimate the value functions thanks to a MC estimation.\"\"\"\n",
    "\n",
    "    # Definition of Tmax\n",
    "    Tmax = -np.log(delta / 2) / (1 - gamma)\n",
    "\n",
    "    # Saving array of all the trajectories starting with s\n",
    "    tau = [[] for i in range(env.n_states)]\n",
    "\n",
    "    # Play the different trajectories\n",
    "    for e in range(n):\n",
    "\n",
    "        # Initialisation of the first state, the time and the terminal flag\n",
    "        state = int(env.reset())\n",
    "        t = 1\n",
    "        term_flag = False\n",
    "\n",
    "        # Saving array of all the rewards and and save the first state\n",
    "        rewards = []\n",
    "        state_init = state\n",
    "\n",
    "        while (t < Tmax and not(term_flag)):\n",
    "\n",
    "            # Select the action to do according to the policy\n",
    "            action = pol[state]\n",
    "\n",
    "            # Let act the environment\n",
    "            state, reward, term_flag = env.step(state, action)\n",
    "\n",
    "            # TO UNCOMMENT IF WE DO NO WANT TO CONSIDER THE FINAL STATES\n",
    "            # term_flag=False\n",
    "\n",
    "            # Add the reward to the saving array\n",
    "            rewards.append(reward)\n",
    "\n",
    "            # Increase the timer\n",
    "            t += 1\n",
    "\n",
    "        # Update tau\n",
    "        tau[state_init].append(rewards)\n",
    "\n",
    "    # Compute the estimation of the value functions\n",
    "    V_pi = np.zeros((env.n_states, 1))\n",
    "\n",
    "    for state in range(env.n_states):\n",
    "\n",
    "        # Extract N(s)\n",
    "        N_s = len(tau[state])\n",
    "\n",
    "        # Compute the mean over all the trajectories begin with state\n",
    "        for trajectory in tau[state]:\n",
    "\n",
    "            # Pounded mean of this trajectory\n",
    "            mean = 0\n",
    "            for t in range(len(trajectory)):\n",
    "                mean += gamma**t * trajectory[t]\n",
    "\n",
    "            # Update of V_pi[state]\n",
    "            V_pi[state, 0] += mean / N_s\n",
    "\n",
    "    return V_pi"
   ]
  },
  {
   "cell_type": "code",
   "execution_count": 124,
   "metadata": {
    "ExecuteTime": {
     "end_time": "2018-11-11T18:36:02.013723Z",
     "start_time": "2018-11-11T18:36:01.936137Z"
    }
   },
   "outputs": [
    {
     "name": "stdout",
     "output_type": "stream",
     "text": [
      "V_pi: \n",
      " [[ 0.87966645]\n",
      " [ 0.93413748]\n",
      " [ 0.98934271]\n",
      " [ 0.        ]\n",
      " [ 0.60311158]\n",
      " [-0.99530405]\n",
      " [ 0.        ]\n",
      " [-0.83411422]\n",
      " [-0.88157689]\n",
      " [-0.93279906]\n",
      " [-0.99373563]]\n"
     ]
    }
   ],
   "source": [
    "# Compute the estimation of V_pi\n",
    "V_pi = estimatorMCValueFunctions(pol, n=1000)\n",
    "\n",
    "# Display the estimation\n",
    "print(\"V_pi: \\n\", V_pi)"
   ]
  },
  {
   "cell_type": "markdown",
   "metadata": {
    "ExecuteTime": {
     "end_time": "2018-11-11T18:28:49.929540Z",
     "start_time": "2018-11-11T18:28:49.922710Z"
    }
   },
   "source": [
    "### 2.2.3 - Plotting of $J_n - J^{\\pi}$"
   ]
  },
  {
   "cell_type": "code",
   "execution_count": 125,
   "metadata": {
    "ExecuteTime": {
     "end_time": "2018-11-11T18:36:36.913838Z",
     "start_time": "2018-11-11T18:36:36.909754Z"
    }
   },
   "outputs": [],
   "source": [
    "def estimationOfMu0(nb_samples=10000):\n",
    "    \"\"\"Compute an MC estimation of mu_0 with nb_samples samples.\"\"\"\n",
    "\n",
    "    # Initialisation of mu_0\n",
    "    mu_0 = np.zeros((env.n_states, 1))\n",
    "\n",
    "    # Compute the estimation\n",
    "    for sample in range(nb_samples):\n",
    "\n",
    "        # Sample of mu_0\n",
    "        state = int(env.reset())\n",
    "\n",
    "        # Increment mu_0\n",
    "        mu_0[state] += 1\n",
    "\n",
    "    # Normalise mu_0\n",
    "    mu_0 = mu_0 / mu_0.sum()\n",
    "\n",
    "    return mu_0"
   ]
  },
  {
   "cell_type": "code",
   "execution_count": 126,
   "metadata": {
    "ExecuteTime": {
     "end_time": "2018-11-11T18:36:46.357100Z",
     "start_time": "2018-11-11T18:36:46.353402Z"
    }
   },
   "outputs": [],
   "source": [
    "def computeJn(mu_0, Vn):\n",
    "    \"\"\"Compute Jn according to mu_0 and Vn.\"\"\"\n",
    "\n",
    "    Jn = np.dot(mu_0.T, Vn)[0, 0]\n",
    "\n",
    "    return Jn"
   ]
  },
  {
   "cell_type": "code",
   "execution_count": 127,
   "metadata": {
    "ExecuteTime": {
     "end_time": "2018-11-11T18:37:03.407686Z",
     "start_time": "2018-11-11T18:37:03.403907Z"
    }
   },
   "outputs": [],
   "source": [
    "def computeJpi(mu_0, V_pi=v_q4):\n",
    "    \"\"\"Compute Jn according to mu_0 and Jn.\"\"\"\n",
    "\n",
    "    # Reshape V_pi\n",
    "    V_pi = np.array(V_pi).reshape((-1, 1))\n",
    "\n",
    "    J_pi = np.dot(mu_0.T, V_pi)[0, 0]\n",
    "\n",
    "    return J_pi"
   ]
  },
  {
   "cell_type": "code",
   "execution_count": 128,
   "metadata": {
    "ExecuteTime": {
     "end_time": "2018-11-11T18:37:04.961646Z",
     "start_time": "2018-11-11T18:37:04.953528Z"
    }
   },
   "outputs": [],
   "source": [
    "def displayJGap(nb_n=200):\n",
    "    \"\"\"Display the gap between Jn and J_pi according to n.\"\"\"\n",
    "\n",
    "    # Array of the iteration\n",
    "    n_l = np.linspace(1, 5000, num=nb_n, dtype=int)\n",
    "\n",
    "    # Computation of the V_n\n",
    "    V_n_l = [estimatorMCValueFunctions(pol, n=n) for n in n_l]\n",
    "\n",
    "    # Computation of mu_0\n",
    "    mu_0 = estimationOfMu0()\n",
    "\n",
    "    # Computation of J_n and J_pi\n",
    "    J_n_l = [computeJn(mu_0, V_n_l[i]) for i in range(nb_n)]\n",
    "    J_pi = computeJpi(mu_0)\n",
    "\n",
    "    # Computation of the gap between them\n",
    "    gaps = [J_n_l[i] - J_pi for i in range(nb_n)]\n",
    "\n",
    "    # Parameters of the figure\n",
    "    plt.figure(figsize=(8, 8))\n",
    "    plt.grid(True)\n",
    "\n",
    "    # Plot\n",
    "    plt.scatter(n_l, gaps, label=\"J_n - J_pi\", marker=\"x\")\n",
    "\n",
    "    # Legend\n",
    "    plt.xlabel(\"n\")\n",
    "    plt.ylabel(\"|J_n - J_pi|\")\n",
    "\n",
    "    # Save the plot\n",
    "    plt.savefig(\"./Images/Gaps_J_n_J_pi\", bbox_inches='tight', pad_inches=0.0)\n",
    "\n",
    "    # Display\n",
    "    plt.show()"
   ]
  },
  {
   "cell_type": "code",
   "execution_count": 129,
   "metadata": {
    "ExecuteTime": {
     "end_time": "2018-11-11T18:37:41.414236Z",
     "start_time": "2018-11-11T18:37:05.607339Z"
    }
   },
   "outputs": [
    {
     "data": {
      "image/png": "[encoded data removed]",
      "text/plain": [
       "<Figure size 576x576 with 1 Axes>"
      ]
     },
     "metadata": {},
     "output_type": "display_data"
    }
   ],
   "source": [
    "displayJGap()"
   ]
  },
  {
   "cell_type": "markdown",
   "metadata": {},
   "source": [
    "We can observe that the error with the optimal value function is decreasing and converge to zero.\n",
    "It is the strengh of the MC estimation offline: the estimation of the optimal value function is not biased. However, we can observe its big variance also. In fact, the variance after 5000 steps is not really lower than the one after 2000 iterations."
   ]
  },
  {
   "cell_type": "markdown",
   "metadata": {},
   "source": [
    "## 2.3 - Question 5: Q-learning"
   ]
  },
  {
   "cell_type": "markdown",
   "metadata": {},
   "source": [
    "\\begin{itemize}\n",
    "    \\item For the exploration policy we choose a policy which make a tradeoff between a random policy which helps to explore the different states and an exploitation policy which helps to improve our rewards thanks to the already learnt value functions. It also allows to visit an infinite number of times every state.\n",
    "    \\item For the Q-learning step, we are going to choose learning rates equal to:\n",
    "        \\begin{equation}\n",
    "            \\alpha(x_t, a_t) = \\frac{1}{number\\_of\\_visits(x_t, a_t)}\n",
    "        \\end{equation}\n",
    "    \\item These two choices allow us to verify the conditions of Robbins and Monroe of 1951 and so to assure the convergence of Q towards the optimal one $Q^*$.\n",
    "\\end{itemize}"
   ]
  },
  {
   "cell_type": "markdown",
   "metadata": {},
   "source": [
    "### 2.3.1 - Greedy Exploration Policy"
   ]
  },
  {
   "cell_type": "code",
   "execution_count": 130,
   "metadata": {
    "ExecuteTime": {
     "end_time": "2018-11-11T18:37:41.447079Z",
     "start_time": "2018-11-11T18:37:41.438641Z"
    }
   },
   "outputs": [],
   "source": [
    "def greedyExplorationPolicy(x, Q, epsilon):\n",
    "    \"\"\"Return an action for the state x with the current approximation Q according\n",
    "       to an epsilon greedy policy.\"\"\"\n",
    "\n",
    "    # Take a sample for deciding if we return a random action or not\n",
    "    sample = np.random.rand()\n",
    "\n",
    "    # Random action\n",
    "    if sample < epsilon:\n",
    "        action = np.random.choice(env.state_actions[x])\n",
    "\n",
    "    # Take the maximising action\n",
    "    else:\n",
    "        # Possible actions for the given state\n",
    "        possible_actions = env.state_actions[x]\n",
    "\n",
    "        # Compute the maximising action among the possible states\n",
    "        maximum = Q[x, possible_actions[0]]\n",
    "        action = possible_actions[0]\n",
    "        for i in range(1, len(possible_actions)):\n",
    "                \n",
    "                value = Q[x, possible_actions[1]]\n",
    "\n",
    "                if value > maximum:\n",
    "                        maximum = value\n",
    "                        action = possible_actions[i]\n",
    "\n",
    "    return action"
   ]
  },
  {
   "cell_type": "markdown",
   "metadata": {},
   "source": [
    "### 2.3.2 - Q-Learnin Algorithm"
   ]
  },
  {
   "cell_type": "code",
   "execution_count": 163,
   "metadata": {
    "ExecuteTime": {
     "end_time": "2018-11-11T19:40:40.865112Z",
     "start_time": "2018-11-11T19:40:40.856160Z"
    }
   },
   "outputs": [],
   "source": [
    "def qLearning(n=1000, epsilon=0.2, gamma=0.95, delta=0.001):\n",
    "    \"\"\"Compute the coresponding Q matrix and the opitmal policy online.\"\"\"\n",
    "\n",
    "    # Definition of Tmax\n",
    "    Tmax = -np.log(delta / 1) / (1 - gamma)\n",
    "\n",
    "    # Parameters\n",
    "    nb_actions = len(env.action_names)\n",
    "\n",
    "    # Initialisation of the matrices of Q and alpha\n",
    "    Q = np.zeros((env.n_states, nb_actions))\n",
    "    alpha = np.zeros((env.n_states, nb_actions)) + 1\n",
    "    \n",
    "    # Rewards cumulated\n",
    "    rewards = 0\n",
    "\n",
    "    # Play the different trajectories\n",
    "    for e in range(n):\n",
    "\n",
    "        # Initialisation of the first state, the time and the terminal flag\n",
    "        x_t = int(env.reset())\n",
    "        t = 1\n",
    "        term_flag = False\n",
    "\n",
    "        # Initialisation of the reward\n",
    "        reward = 0\n",
    "\n",
    "        while (t < Tmax and not(term_flag)):\n",
    "\n",
    "            # Select the action to do according to the policy\n",
    "            a_t = greedyExplorationPolicy(x_t, Q, epsilon)\n",
    "\n",
    "            # Observation of the next state\n",
    "            x_t_plus_1, r_t, term_flag = env.step(x_t, a_t)\n",
    "\n",
    "            # Temporal differences\n",
    "            delta_t = r_t + gamma * Q[x_t_plus_1, :].max()\n",
    "\n",
    "            # Extract alpha\n",
    "            alpha_t = alpha[x_t, a_t]\n",
    "\n",
    "            # Update of Q\n",
    "            Q[x_t, a_t] = (1 - alpha_t) * Q[x_t, a_t] + alpha_t * delta_t\n",
    "\n",
    "            # Update of alpha\n",
    "            alpha[x_t, a_t] = 1 / ((1 / alpha[x_t, a_t]) + 1)\n",
    "\n",
    "            # Update of the state\n",
    "            x_t = x_t_plus_1\n",
    "\n",
    "            # Update of the reward\n",
    "            reward += gamma ** (t - 1) * r_t\n",
    "\n",
    "            # Increase the timer\n",
    "            t += 1\n",
    "\n",
    "        # Cumulated rerward over all the episodes\n",
    "        rewards += reward\n",
    "\n",
    "    return Q, rewards"
   ]
  },
  {
   "cell_type": "markdown",
   "metadata": {},
   "source": [
    "### 2.3.3 - Definition of v_opt"
   ]
  },
  {
   "cell_type": "code",
   "execution_count": 222,
   "metadata": {
    "ExecuteTime": {
     "end_time": "2018-11-11T20:43:05.317172Z",
     "start_time": "2018-11-11T20:43:05.313560Z"
    }
   },
   "outputs": [],
   "source": [
    "v_opt = [0.87691855, 0.92820033, 0.98817903, 0.00000000, 0.82369294, 0.92820033, 0.00000000, 0.77818504, 0.82369294,\n",
    "         0.87691855, 0.82847001]\n",
    "\n",
    "# Reshape v_opt\n",
    "v_opt = np.array(v_opt).reshape((-1, 1))"
   ]
  },
  {
   "cell_type": "markdown",
   "metadata": {},
   "source": [
    "### 2.3.4 - Plotting"
   ]
  },
  {
   "cell_type": "code",
   "execution_count": 223,
   "metadata": {
    "ExecuteTime": {
     "end_time": "2018-11-11T20:43:07.035285Z",
     "start_time": "2018-11-11T20:43:07.029919Z"
    }
   },
   "outputs": [],
   "source": [
    "def computeGreedyPolicy(Q):\n",
    "    \"\"\"Return the greedy policy according to Q.\"\"\"\n",
    "\n",
    "    # Initialisation of the policy\n",
    "    policy = np.zeros((env.n_states, 1), dtype=int)\n",
    "\n",
    "    # Extract the best action according to Q\n",
    "    for state in range(env.n_states):\n",
    "\n",
    "            # Upate the policy value\n",
    "            policy[state, 0] = Q[state, :].reshape(-1).argmax()\n",
    "\n",
    "    return policy"
   ]
  },
  {
   "cell_type": "code",
   "execution_count": 224,
   "metadata": {
    "ExecuteTime": {
     "end_time": "2018-11-11T20:43:07.171816Z",
     "start_time": "2018-11-11T20:43:07.168578Z"
    }
   },
   "outputs": [],
   "source": [
    "def infNorm(V):\n",
    "    \"\"\"Compute the inf norm on V.\"\"\"\n",
    "    \n",
    "    return np.max(np.abs(V))"
   ]
  },
  {
   "cell_type": "code",
   "execution_count": 225,
   "metadata": {
    "ExecuteTime": {
     "end_time": "2018-11-11T20:43:07.360460Z",
     "start_time": "2018-11-11T20:43:07.355087Z"
    }
   },
   "outputs": [],
   "source": [
    "def valueFunctions(Q, policy):\n",
    "    \"\"\"Return the value functions for the given policy and Q matrix.\"\"\"\n",
    "\n",
    "    # Initialise the value function\n",
    "    V_pi = np.zeros((env.n_states, 1))\n",
    "    \n",
    "    # Update the true value of the value function for each state\n",
    "    for state in range(env.n_states):\n",
    "        \n",
    "            V_pi[state, 0] = Q[state, policy[state, 0]]\n",
    "\n",
    "    return V_pi"
   ]
  },
  {
   "cell_type": "markdown",
   "metadata": {},
   "source": [
    "#### 2.3.4.1 - Gaps between $||v^* - v^{\\pi_n}||$"
   ]
  },
  {
   "cell_type": "code",
   "execution_count": 241,
   "metadata": {
    "ExecuteTime": {
     "end_time": "2018-11-11T20:58:52.996688Z",
     "start_time": "2018-11-11T20:58:52.986057Z"
    }
   },
   "outputs": [],
   "source": [
    "def displayVGaps(nb_n=50, epsilon=0.25):\n",
    "    \"\"\"Display the gap between v_opt and v_pi_n according to n.\"\"\"\n",
    "\n",
    "    # Array of the iteration\n",
    "    n_l = np.linspace(1, 100000, num=nb_n, dtype=int)\n",
    "    \n",
    "    # Parameters of the figure\n",
    "    plt.figure(figsize=(8, 8))\n",
    "    plt.grid(True)\n",
    "    \n",
    "    # Computation of the Q_n\n",
    "    Q_n_l = [qLearning(n=n, epsilon=epsilon)[0] for n in n_l]\n",
    "\n",
    "    # Computation of the policies given Q\n",
    "    policy_l = [computeGreedyPolicy(Q_n_l[i]) for i in range(nb_n)]\n",
    "\n",
    "    # Computation of v_n\n",
    "    V_n_l = [valueFunctions(Q_n_l[i], policy_l[i]) for i in range(nb_n)]\n",
    "\n",
    "    # Computation of the gap between them\n",
    "    gaps = [infNorm(V_n_l[i] - v_opt) for i in range(nb_n)]\n",
    "\n",
    "    # Plot\n",
    "    plt.scatter(n_l, gaps, label=\"epsilon_\" + str(epsilon), marker=\"x\")\n",
    "\n",
    "    # Legend\n",
    "    plt.xlabel(\"n\")\n",
    "    plt.ylabel(\"||V_n - v*||\")\n",
    "    plt.legend()\n",
    "\n",
    "    # Save the plot\n",
    "    plt.savefig(\"./Images/Gaps_||V_n - v*||\", bbox_inches='tight', pad_inches=0.0)\n",
    "\n",
    "    # Display\n",
    "    plt.show()"
   ]
  },
  {
   "cell_type": "code",
   "execution_count": 242,
   "metadata": {
    "ExecuteTime": {
     "end_time": "2018-11-11T21:10:25.542298Z",
     "start_time": "2018-11-11T20:58:53.582269Z"
    }
   },
   "outputs": [
    {
     "data": {
      "image/png": "[encoded data removed]",
      "text/plain": [
       "<Figure size 576x576 with 1 Axes>"
      ]
     },
     "metadata": {},
     "output_type": "display_data"
    }
   ],
   "source": [
    "displayVGaps()"
   ]
  },
  {
   "cell_type": "markdown",
   "metadata": {},
   "source": [
    "Here we can observe that the error with the optimal value function converge towards zero. In fact, it is coherent with the choice of our epsilon (not null) and our learning rates which respect the conditions of Robbins and Monroe. However, we can observe that the convergence is quite noisy, it means that there is a big variance in the result, above all when the number of simulation is low but it reduces when the number of simulations increases."
   ]
  },
  {
   "cell_type": "markdown",
   "metadata": {},
   "source": [
    "#### 2.3.4.2 - Plotting of the cumulated reward"
   ]
  },
  {
   "cell_type": "code",
   "execution_count": 190,
   "metadata": {
    "ExecuteTime": {
     "end_time": "2018-11-11T20:18:06.056362Z",
     "start_time": "2018-11-11T20:18:06.047711Z"
    }
   },
   "outputs": [],
   "source": [
    "def displayCumulatedRewards(nb_n=25, epsilon=0.8):\n",
    "    \"\"\"Display the cumulated reward according to n.\"\"\"\n",
    "    \n",
    "    # Parameters of the figure\n",
    "    plt.figure(figsize=(8, 8))\n",
    "    plt.grid(True)\n",
    "    \n",
    "    # Array of the iteration\n",
    "    n_l = np.linspace(1, 5000, num=nb_n, dtype=int)\n",
    "\n",
    "    # Array of epsilon\n",
    "    epsilon_l = np.linspace(0, 1, num=5)\n",
    "    \n",
    "    # For each epsilon display the cumulated rewards\n",
    "    for epsilon in epsilon_l:\n",
    "    \n",
    "        # Round epsilon\n",
    "        epsilon = round(epsilon, 2)\n",
    "    \n",
    "        # Computation of the Q_n\n",
    "        reward_l = [qLearning(n=n, epsilon=epsilon)[1] for n in n_l]\n",
    "        \n",
    "        # Plot\n",
    "        plt.scatter(n_l, reward_l, label=\"epsilon_\" + str(epsilon), marker=\"x\")\n",
    "\n",
    "    # Legend\n",
    "    plt.xlabel(\"n\")\n",
    "    plt.ylabel(\"Cumulated Reward\")\n",
    "    plt.legend()\n",
    "\n",
    "    # Save the plot\n",
    "    plt.savefig(\"./Images/Cumulated Reward\", bbox_inches='tight', pad_inches=0.0)\n",
    "\n",
    "    # Display\n",
    "    plt.show()"
   ]
  },
  {
   "cell_type": "code",
   "execution_count": 191,
   "metadata": {
    "ExecuteTime": {
     "end_time": "2018-11-11T20:20:51.878453Z",
     "start_time": "2018-11-11T20:18:06.079900Z"
    }
   },
   "outputs": [
    {
     "data": {
      "image/png": "[encoded data removed]",
      "text/plain": [
       "<Figure size 576x576 with 1 Axes>"
      ]
     },
     "metadata": {},
     "output_type": "display_data"
    }
   ],
   "source": [
    "displayCumulatedRewards()"
   ]
  },
  {
   "cell_type": "markdown",
   "metadata": {},
   "source": [
    "We can observe that the cumulated sum of rewards depend on the choice of epsilon. In fact, if we choose epsilon=0, we can observe that our cumulated sum is increasing and positive. It seems logic because in this case we have a pure exploitation policy. However, in the extreme case of an epsilon equal to 1, the cumulated sum of rewards is decreasing. In this situation, we have a pure exploration policy and it seems that the absorbing state $s_6$ is more likely to be reached. Finally, we can observe that epsilon=0.25 seems better than the two past ones. In fact, in this situation, we have a good tradeoff between the exploitation policy and the exploration one which allows to improve our greedy policy gloably and have good rewards at the same time."
   ]
  },
  {
   "cell_type": "markdown",
   "metadata": {
    "ExecuteTime": {
     "end_time": "2018-11-11T20:31:27.713192Z",
     "start_time": "2018-11-11T20:31:27.707966Z"
    }
   },
   "source": [
    "## 2.4 - Question 6:"
   ]
  },
  {
   "cell_type": "markdown",
   "metadata": {},
   "source": [
    "We know that the optimal value function $V^*$ is the fixed point of the optimal Bellman operator $\\mathcal{T}$. Moreover, this optimal opertor $\\mathcal{T}$ does not depend of the initial distribution $\\mu_0$. Hence, the optimal value function $V^*$ does not depend on the initial distribution $\\mu_0$. \n",
    "\n",
    "Finally, if we compute the greedy policy with the optimal value function, we find the optimal policy $\\pi^*$. So, as the computation of the greedy policy does not depend on the initial distribution $\\mu_0$, we have that the optimal policy does not depend on the initial distribution $\\mu_0$.  "
   ]
  },
  {
   "cell_type": "code",
   "execution_count": null,
   "metadata": {},
   "outputs": [],
   "source": []
  }
 ],
 "metadata": {
  "kernelspec": {
   "display_name": "Python 3",
   "language": "python",
   "name": "python3"
  },
  "language_info": {
   "codemirror_mode": {
    "name": "ipython",
    "version": 3
   },
   "file_extension": ".py",
   "mimetype": "text/x-python",
   "name": "python",
   "nbconvert_exporter": "python",
   "pygments_lexer": "ipython3",
   "version": "3.6.3"
  },
  "latex_envs": {
   "LaTeX_envs_menu_present": true,
   "autoclose": false,
   "autocomplete": true,
   "bibliofile": "biblio.bib",
   "cite_by": "apalike",
   "current_citInitial": 1,
   "eqLabelWithNumbers": true,
   "eqNumInitial": 1,
   "hotkeys": {
    "equation": "Ctrl-E",
    "itemize": "Ctrl-I"
   },
   "labels_anchors": false,
   "latex_user_defs": false,
   "report_style_numbering": false,
   "user_envs_cfg": false
  },
  "varInspector": {
   "cols": {
    "lenName": 16,
    "lenType": 16,
    "lenVar": 40
   },
   "kernels_config": {
    "python": {
     "delete_cmd_postfix": "",
     "delete_cmd_prefix": "del ",
     "library": "var_list.py",
     "varRefreshCmd": "print(var_dic_list())"
    },
    "r": {
     "delete_cmd_postfix": ") ",
     "delete_cmd_prefix": "rm(",
     "library": "var_list.r",
     "varRefreshCmd": "cat(var_dic_list()) "
    }
   },
   "types_to_exclude": [
    "module",
    "function",
    "builtin_function_or_method",
    "instance",
    "_Feature"
   ],
   "window_display": false
  }
 },
 "nbformat": 4,
 "nbformat_minor": 2
}
